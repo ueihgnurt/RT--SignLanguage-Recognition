{
 "metadata": {
  "language_info": {
   "codemirror_mode": {
    "name": "ipython",
    "version": 3
   },
   "file_extension": ".py",
   "mimetype": "text/x-python",
   "name": "python",
   "nbconvert_exporter": "python",
   "pygments_lexer": "ipython3",
   "version": "3.7.0"
  },
  "orig_nbformat": 2,
  "kernelspec": {
   "name": "python3",
   "display_name": "Python 3.7.0 64-bit"
  },
  "interpreter": {
   "hash": "69a7ec1f19fe8e6b4d60bff3a060a39e42b8b78906aa04442e53246e4bcaf9b9"
  }
 },
 "nbformat": 4,
 "nbformat_minor": 2,
 "cells": [
  {
   "cell_type": "code",
   "execution_count": 13,
   "metadata": {},
   "outputs": [],
   "source": [
    "# import csv\n",
    "# face = 468 # keypoints\n",
    "# hand = 21 # keypoints\n",
    "# landmarks = []\n",
    "# for val in range(1, face + hand*2 +1):\n",
    "#     landmarks += ['x{}'.format(val), 'y{}'.format(val), 'z{}'.format(val)]\n",
    "# with open('coords2.csv', mode='w', newline='') as f:\n",
    "#     csv_writer = csv.writer(f, delimiter=',', quotechar='\"', quoting=csv.QUOTE_MINIMAL)\n",
    "#     csv_writer.writerow(landmarks)\n",
    "# a = [\"class_name\"]\n",
    "# with open('class2.csv', mode='w', newline='') as f:\n",
    "#     csv_writer = csv.writer(f, delimiter=',', quotechar='\"', quoting=csv.QUOTE_MINIMAL)\n",
    "#     csv_writer.writerow(a)"
   ]
  },
  {
   "cell_type": "code",
   "execution_count": 38,
   "metadata": {},
   "outputs": [],
   "source": [
    "import csv\n",
    "import numpy as np\n",
    "import tensorflow as tf\n",
    "from tensorflow.keras import datasets, layers, models\n",
    "from keras.callbacks import Callback, ModelCheckpoint,EarlyStopping\n",
    "import pandas as pd \n",
    "import numpy as numpy "
   ]
  },
  {
   "cell_type": "code",
   "execution_count": 39,
   "metadata": {},
   "outputs": [],
   "source": [
    "weight = pd.read_csv(r'C:\\\\Users\\\\Asus\\\\Desktop\\\\shuwa\\\\pj15\\\\datacollection\\\\coords.csv')\n",
    "weight2 = pd.read_csv(r'C:\\\\Users\\\\Asus\\\\Desktop\\\\shuwa\\\\pj15\\\\datacollection\\\\coords2.csv')\n",
    "label = pd.read_csv(r\"C:\\\\Users\\\\Asus\\\\Desktop\\\\shuwa\\\\pj15\\\\datacollection\\\\class.csv\")\n",
    "label2 = pd.read_csv(r\"C:\\\\Users\\\\Asus\\\\Desktop\\\\shuwa\\\\pj15\\\\datacollection\\\\class2.csv\")"
   ]
  },
  {
   "cell_type": "code",
   "execution_count": 40,
   "metadata": {},
   "outputs": [],
   "source": [
    "weight = pd.concat([weight,weight2])\n",
    "label = pd.concat([label,label2])"
   ]
  },
  {
   "cell_type": "code",
   "execution_count": 41,
   "metadata": {},
   "outputs": [
    {
     "output_type": "execute_result",
     "data": {
      "text/plain": [
       "        x1   y1   z1   x2   y2   z2   x3   y3   z3   x4  ...      z507  \\\n",
       "0      0.0  0.0  0.0  0.0  0.0  0.0  0.0  0.0  0.0  0.0  ... -0.002411   \n",
       "1      0.0  0.0  0.0  0.0  0.0  0.0  0.0  0.0  0.0  0.0  ... -0.002196   \n",
       "2      0.0  0.0  0.0  0.0  0.0  0.0  0.0  0.0  0.0  0.0  ... -0.002510   \n",
       "3      0.0  0.0  0.0  0.0  0.0  0.0  0.0  0.0  0.0  0.0  ... -0.002048   \n",
       "4      0.0  0.0  0.0  0.0  0.0  0.0  0.0  0.0  0.0  0.0  ... -0.002722   \n",
       "...    ...  ...  ...  ...  ...  ...  ...  ...  ...  ...  ...       ...   \n",
       "24075  0.0  0.0  0.0  0.0  0.0  0.0  0.0  0.0  0.0  0.0  ...  0.017661   \n",
       "24076  0.0  0.0  0.0  0.0  0.0  0.0  0.0  0.0  0.0  0.0  ...  0.018222   \n",
       "24077  0.0  0.0  0.0  0.0  0.0  0.0  0.0  0.0  0.0  0.0  ...  0.016109   \n",
       "24078  0.0  0.0  0.0  0.0  0.0  0.0  0.0  0.0  0.0  0.0  ...  0.014803   \n",
       "24079  0.0  0.0  0.0  0.0  0.0  0.0  0.0  0.0  0.0  0.0  ...  0.014835   \n",
       "\n",
       "           x508      y508      z508      x509      y509      z509      x510  \\\n",
       "0      0.589465  0.355553 -0.007890  0.628529  0.341654  0.012560  0.632086   \n",
       "1      0.586495  0.352014 -0.007481  0.624999  0.336833  0.012152  0.628583   \n",
       "2      0.586497  0.350037 -0.007743  0.625173  0.333470  0.011331  0.628699   \n",
       "3      0.586049  0.347950 -0.007327  0.625389  0.332000  0.012120  0.628999   \n",
       "4      0.585101  0.346740 -0.008020  0.624432  0.329431  0.010822  0.628030   \n",
       "...         ...       ...       ...       ...       ...       ...       ...   \n",
       "24075  0.690511  0.334727  0.010085  0.733233  0.345192  0.041262  0.738471   \n",
       "24076  0.690773  0.335096  0.010884  0.732806  0.347095  0.041357  0.738059   \n",
       "24077  0.690232  0.339451  0.008813  0.733333  0.349467  0.037812  0.738666   \n",
       "24078  0.690050  0.348029  0.007387  0.733740  0.358582  0.036869  0.739253   \n",
       "24079  0.688826  0.353250  0.007467  0.733508  0.364243  0.036356  0.739097   \n",
       "\n",
       "           y510      z510  \n",
       "0      0.336100  0.013304  \n",
       "1      0.331140  0.012820  \n",
       "2      0.327675  0.011929  \n",
       "3      0.325952  0.012761  \n",
       "4      0.323350  0.011391  \n",
       "...         ...       ...  \n",
       "24075  0.337776  0.043315  \n",
       "24076  0.339435  0.043442  \n",
       "24077  0.342047  0.039696  \n",
       "24078  0.350887  0.038733  \n",
       "24079  0.356556  0.038153  \n",
       "\n",
       "[38528 rows x 1530 columns]"
      ],
      "text/html": "<div>\n<style scoped>\n    .dataframe tbody tr th:only-of-type {\n        vertical-align: middle;\n    }\n\n    .dataframe tbody tr th {\n        vertical-align: top;\n    }\n\n    .dataframe thead th {\n        text-align: right;\n    }\n</style>\n<table border=\"1\" class=\"dataframe\">\n  <thead>\n    <tr style=\"text-align: right;\">\n      <th></th>\n      <th>x1</th>\n      <th>y1</th>\n      <th>z1</th>\n      <th>x2</th>\n      <th>y2</th>\n      <th>z2</th>\n      <th>x3</th>\n      <th>y3</th>\n      <th>z3</th>\n      <th>x4</th>\n      <th>...</th>\n      <th>z507</th>\n      <th>x508</th>\n      <th>y508</th>\n      <th>z508</th>\n      <th>x509</th>\n      <th>y509</th>\n      <th>z509</th>\n      <th>x510</th>\n      <th>y510</th>\n      <th>z510</th>\n    </tr>\n  </thead>\n  <tbody>\n    <tr>\n      <th>0</th>\n      <td>0.0</td>\n      <td>0.0</td>\n      <td>0.0</td>\n      <td>0.0</td>\n      <td>0.0</td>\n      <td>0.0</td>\n      <td>0.0</td>\n      <td>0.0</td>\n      <td>0.0</td>\n      <td>0.0</td>\n      <td>...</td>\n      <td>-0.002411</td>\n      <td>0.589465</td>\n      <td>0.355553</td>\n      <td>-0.007890</td>\n      <td>0.628529</td>\n      <td>0.341654</td>\n      <td>0.012560</td>\n      <td>0.632086</td>\n      <td>0.336100</td>\n      <td>0.013304</td>\n    </tr>\n    <tr>\n      <th>1</th>\n      <td>0.0</td>\n      <td>0.0</td>\n      <td>0.0</td>\n      <td>0.0</td>\n      <td>0.0</td>\n      <td>0.0</td>\n      <td>0.0</td>\n      <td>0.0</td>\n      <td>0.0</td>\n      <td>0.0</td>\n      <td>...</td>\n      <td>-0.002196</td>\n      <td>0.586495</td>\n      <td>0.352014</td>\n      <td>-0.007481</td>\n      <td>0.624999</td>\n      <td>0.336833</td>\n      <td>0.012152</td>\n      <td>0.628583</td>\n      <td>0.331140</td>\n      <td>0.012820</td>\n    </tr>\n    <tr>\n      <th>2</th>\n      <td>0.0</td>\n      <td>0.0</td>\n      <td>0.0</td>\n      <td>0.0</td>\n      <td>0.0</td>\n      <td>0.0</td>\n      <td>0.0</td>\n      <td>0.0</td>\n      <td>0.0</td>\n      <td>0.0</td>\n      <td>...</td>\n      <td>-0.002510</td>\n      <td>0.586497</td>\n      <td>0.350037</td>\n      <td>-0.007743</td>\n      <td>0.625173</td>\n      <td>0.333470</td>\n      <td>0.011331</td>\n      <td>0.628699</td>\n      <td>0.327675</td>\n      <td>0.011929</td>\n    </tr>\n    <tr>\n      <th>3</th>\n      <td>0.0</td>\n      <td>0.0</td>\n      <td>0.0</td>\n      <td>0.0</td>\n      <td>0.0</td>\n      <td>0.0</td>\n      <td>0.0</td>\n      <td>0.0</td>\n      <td>0.0</td>\n      <td>0.0</td>\n      <td>...</td>\n      <td>-0.002048</td>\n      <td>0.586049</td>\n      <td>0.347950</td>\n      <td>-0.007327</td>\n      <td>0.625389</td>\n      <td>0.332000</td>\n      <td>0.012120</td>\n      <td>0.628999</td>\n      <td>0.325952</td>\n      <td>0.012761</td>\n    </tr>\n    <tr>\n      <th>4</th>\n      <td>0.0</td>\n      <td>0.0</td>\n      <td>0.0</td>\n      <td>0.0</td>\n      <td>0.0</td>\n      <td>0.0</td>\n      <td>0.0</td>\n      <td>0.0</td>\n      <td>0.0</td>\n      <td>0.0</td>\n      <td>...</td>\n      <td>-0.002722</td>\n      <td>0.585101</td>\n      <td>0.346740</td>\n      <td>-0.008020</td>\n      <td>0.624432</td>\n      <td>0.329431</td>\n      <td>0.010822</td>\n      <td>0.628030</td>\n      <td>0.323350</td>\n      <td>0.011391</td>\n    </tr>\n    <tr>\n      <th>...</th>\n      <td>...</td>\n      <td>...</td>\n      <td>...</td>\n      <td>...</td>\n      <td>...</td>\n      <td>...</td>\n      <td>...</td>\n      <td>...</td>\n      <td>...</td>\n      <td>...</td>\n      <td>...</td>\n      <td>...</td>\n      <td>...</td>\n      <td>...</td>\n      <td>...</td>\n      <td>...</td>\n      <td>...</td>\n      <td>...</td>\n      <td>...</td>\n      <td>...</td>\n      <td>...</td>\n    </tr>\n    <tr>\n      <th>24075</th>\n      <td>0.0</td>\n      <td>0.0</td>\n      <td>0.0</td>\n      <td>0.0</td>\n      <td>0.0</td>\n      <td>0.0</td>\n      <td>0.0</td>\n      <td>0.0</td>\n      <td>0.0</td>\n      <td>0.0</td>\n      <td>...</td>\n      <td>0.017661</td>\n      <td>0.690511</td>\n      <td>0.334727</td>\n      <td>0.010085</td>\n      <td>0.733233</td>\n      <td>0.345192</td>\n      <td>0.041262</td>\n      <td>0.738471</td>\n      <td>0.337776</td>\n      <td>0.043315</td>\n    </tr>\n    <tr>\n      <th>24076</th>\n      <td>0.0</td>\n      <td>0.0</td>\n      <td>0.0</td>\n      <td>0.0</td>\n      <td>0.0</td>\n      <td>0.0</td>\n      <td>0.0</td>\n      <td>0.0</td>\n      <td>0.0</td>\n      <td>0.0</td>\n      <td>...</td>\n      <td>0.018222</td>\n      <td>0.690773</td>\n      <td>0.335096</td>\n      <td>0.010884</td>\n      <td>0.732806</td>\n      <td>0.347095</td>\n      <td>0.041357</td>\n      <td>0.738059</td>\n      <td>0.339435</td>\n      <td>0.043442</td>\n    </tr>\n    <tr>\n      <th>24077</th>\n      <td>0.0</td>\n      <td>0.0</td>\n      <td>0.0</td>\n      <td>0.0</td>\n      <td>0.0</td>\n      <td>0.0</td>\n      <td>0.0</td>\n      <td>0.0</td>\n      <td>0.0</td>\n      <td>0.0</td>\n      <td>...</td>\n      <td>0.016109</td>\n      <td>0.690232</td>\n      <td>0.339451</td>\n      <td>0.008813</td>\n      <td>0.733333</td>\n      <td>0.349467</td>\n      <td>0.037812</td>\n      <td>0.738666</td>\n      <td>0.342047</td>\n      <td>0.039696</td>\n    </tr>\n    <tr>\n      <th>24078</th>\n      <td>0.0</td>\n      <td>0.0</td>\n      <td>0.0</td>\n      <td>0.0</td>\n      <td>0.0</td>\n      <td>0.0</td>\n      <td>0.0</td>\n      <td>0.0</td>\n      <td>0.0</td>\n      <td>0.0</td>\n      <td>...</td>\n      <td>0.014803</td>\n      <td>0.690050</td>\n      <td>0.348029</td>\n      <td>0.007387</td>\n      <td>0.733740</td>\n      <td>0.358582</td>\n      <td>0.036869</td>\n      <td>0.739253</td>\n      <td>0.350887</td>\n      <td>0.038733</td>\n    </tr>\n    <tr>\n      <th>24079</th>\n      <td>0.0</td>\n      <td>0.0</td>\n      <td>0.0</td>\n      <td>0.0</td>\n      <td>0.0</td>\n      <td>0.0</td>\n      <td>0.0</td>\n      <td>0.0</td>\n      <td>0.0</td>\n      <td>0.0</td>\n      <td>...</td>\n      <td>0.014835</td>\n      <td>0.688826</td>\n      <td>0.353250</td>\n      <td>0.007467</td>\n      <td>0.733508</td>\n      <td>0.364243</td>\n      <td>0.036356</td>\n      <td>0.739097</td>\n      <td>0.356556</td>\n      <td>0.038153</td>\n    </tr>\n  </tbody>\n</table>\n<p>38528 rows × 1530 columns</p>\n</div>"
     },
     "metadata": {},
     "execution_count": 41
    }
   ],
   "source": [
    "weight"
   ]
  },
  {
   "cell_type": "code",
   "execution_count": 42,
   "metadata": {},
   "outputs": [
    {
     "output_type": "execute_result",
     "data": {
      "text/plain": [
       "            x22       y22       z22       x23       y23       z23       x24  \\\n",
       "0      0.000000  0.000000  0.000000  0.000000  0.000000  0.000000  0.000000   \n",
       "1      0.000000  0.000000  0.000000  0.000000  0.000000  0.000000  0.000000   \n",
       "2      0.000000  0.000000  0.000000  0.000000  0.000000  0.000000  0.000000   \n",
       "3      0.000000  0.000000  0.000000  0.000000  0.000000  0.000000  0.000000   \n",
       "4      0.000000  0.000000  0.000000  0.000000  0.000000  0.000000  0.000000   \n",
       "...         ...       ...       ...       ...       ...       ...       ...   \n",
       "24075  0.333538  1.023685 -0.000081  0.372105  0.912273 -0.001714  0.387207   \n",
       "24076  0.000000  0.000000  0.000000  0.000000  0.000000  0.000000  0.000000   \n",
       "24077  0.000000  0.000000  0.000000  0.000000  0.000000  0.000000  0.000000   \n",
       "24078  0.000000  0.000000  0.000000  0.000000  0.000000  0.000000  0.000000   \n",
       "24079  0.000000  0.000000  0.000000  0.000000  0.000000  0.000000  0.000000   \n",
       "\n",
       "            y24       z24       x25  ...       z39       x40       y40  \\\n",
       "0      0.000000  0.000000  0.000000  ...  0.000000  0.000000  0.000000   \n",
       "1      0.000000  0.000000  0.000000  ...  0.000000  0.000000  0.000000   \n",
       "2      0.000000  0.000000  0.000000  ...  0.000000  0.000000  0.000000   \n",
       "3      0.000000  0.000000  0.000000  ...  0.000000  0.000000  0.000000   \n",
       "4      0.000000  0.000000  0.000000  ...  0.000000  0.000000  0.000000   \n",
       "...         ...       ...       ...  ...       ...       ...       ...   \n",
       "24075  0.824449 -0.005391  0.381112  ... -0.009674  0.307134  0.755611   \n",
       "24076  0.000000  0.000000  0.000000  ...  0.000000  0.000000  0.000000   \n",
       "24077  0.000000  0.000000  0.000000  ...  0.000000  0.000000  0.000000   \n",
       "24078  0.000000  0.000000  0.000000  ...  0.000000  0.000000  0.000000   \n",
       "24079  0.000000  0.000000  0.000000  ...  0.000000  0.000000  0.000000   \n",
       "\n",
       "            z40       x41       y41       z41       x42       y42       z42  \n",
       "0      0.000000  0.000000  0.000000  0.000000  0.000000  0.000000  0.000000  \n",
       "1      0.000000  0.000000  0.000000  0.000000  0.000000  0.000000  0.000000  \n",
       "2      0.000000  0.000000  0.000000  0.000000  0.000000  0.000000  0.000000  \n",
       "3      0.000000  0.000000  0.000000  0.000000  0.000000  0.000000  0.000000  \n",
       "4      0.000000  0.000000  0.000000  0.000000  0.000000  0.000000  0.000000  \n",
       "...         ...       ...       ...       ...       ...       ...       ...  \n",
       "24075 -0.021702  0.321413  0.781115 -0.022297  0.330666  0.820271 -0.013748  \n",
       "24076  0.000000  0.000000  0.000000  0.000000  0.000000  0.000000  0.000000  \n",
       "24077  0.000000  0.000000  0.000000  0.000000  0.000000  0.000000  0.000000  \n",
       "24078  0.000000  0.000000  0.000000  0.000000  0.000000  0.000000  0.000000  \n",
       "24079  0.000000  0.000000  0.000000  0.000000  0.000000  0.000000  0.000000  \n",
       "\n",
       "[38528 rows x 63 columns]"
      ],
      "text/html": "<div>\n<style scoped>\n    .dataframe tbody tr th:only-of-type {\n        vertical-align: middle;\n    }\n\n    .dataframe tbody tr th {\n        vertical-align: top;\n    }\n\n    .dataframe thead th {\n        text-align: right;\n    }\n</style>\n<table border=\"1\" class=\"dataframe\">\n  <thead>\n    <tr style=\"text-align: right;\">\n      <th></th>\n      <th>x22</th>\n      <th>y22</th>\n      <th>z22</th>\n      <th>x23</th>\n      <th>y23</th>\n      <th>z23</th>\n      <th>x24</th>\n      <th>y24</th>\n      <th>z24</th>\n      <th>x25</th>\n      <th>...</th>\n      <th>z39</th>\n      <th>x40</th>\n      <th>y40</th>\n      <th>z40</th>\n      <th>x41</th>\n      <th>y41</th>\n      <th>z41</th>\n      <th>x42</th>\n      <th>y42</th>\n      <th>z42</th>\n    </tr>\n  </thead>\n  <tbody>\n    <tr>\n      <th>0</th>\n      <td>0.000000</td>\n      <td>0.000000</td>\n      <td>0.000000</td>\n      <td>0.000000</td>\n      <td>0.000000</td>\n      <td>0.000000</td>\n      <td>0.000000</td>\n      <td>0.000000</td>\n      <td>0.000000</td>\n      <td>0.000000</td>\n      <td>...</td>\n      <td>0.000000</td>\n      <td>0.000000</td>\n      <td>0.000000</td>\n      <td>0.000000</td>\n      <td>0.000000</td>\n      <td>0.000000</td>\n      <td>0.000000</td>\n      <td>0.000000</td>\n      <td>0.000000</td>\n      <td>0.000000</td>\n    </tr>\n    <tr>\n      <th>1</th>\n      <td>0.000000</td>\n      <td>0.000000</td>\n      <td>0.000000</td>\n      <td>0.000000</td>\n      <td>0.000000</td>\n      <td>0.000000</td>\n      <td>0.000000</td>\n      <td>0.000000</td>\n      <td>0.000000</td>\n      <td>0.000000</td>\n      <td>...</td>\n      <td>0.000000</td>\n      <td>0.000000</td>\n      <td>0.000000</td>\n      <td>0.000000</td>\n      <td>0.000000</td>\n      <td>0.000000</td>\n      <td>0.000000</td>\n      <td>0.000000</td>\n      <td>0.000000</td>\n      <td>0.000000</td>\n    </tr>\n    <tr>\n      <th>2</th>\n      <td>0.000000</td>\n      <td>0.000000</td>\n      <td>0.000000</td>\n      <td>0.000000</td>\n      <td>0.000000</td>\n      <td>0.000000</td>\n      <td>0.000000</td>\n      <td>0.000000</td>\n      <td>0.000000</td>\n      <td>0.000000</td>\n      <td>...</td>\n      <td>0.000000</td>\n      <td>0.000000</td>\n      <td>0.000000</td>\n      <td>0.000000</td>\n      <td>0.000000</td>\n      <td>0.000000</td>\n      <td>0.000000</td>\n      <td>0.000000</td>\n      <td>0.000000</td>\n      <td>0.000000</td>\n    </tr>\n    <tr>\n      <th>3</th>\n      <td>0.000000</td>\n      <td>0.000000</td>\n      <td>0.000000</td>\n      <td>0.000000</td>\n      <td>0.000000</td>\n      <td>0.000000</td>\n      <td>0.000000</td>\n      <td>0.000000</td>\n      <td>0.000000</td>\n      <td>0.000000</td>\n      <td>...</td>\n      <td>0.000000</td>\n      <td>0.000000</td>\n      <td>0.000000</td>\n      <td>0.000000</td>\n      <td>0.000000</td>\n      <td>0.000000</td>\n      <td>0.000000</td>\n      <td>0.000000</td>\n      <td>0.000000</td>\n      <td>0.000000</td>\n    </tr>\n    <tr>\n      <th>4</th>\n      <td>0.000000</td>\n      <td>0.000000</td>\n      <td>0.000000</td>\n      <td>0.000000</td>\n      <td>0.000000</td>\n      <td>0.000000</td>\n      <td>0.000000</td>\n      <td>0.000000</td>\n      <td>0.000000</td>\n      <td>0.000000</td>\n      <td>...</td>\n      <td>0.000000</td>\n      <td>0.000000</td>\n      <td>0.000000</td>\n      <td>0.000000</td>\n      <td>0.000000</td>\n      <td>0.000000</td>\n      <td>0.000000</td>\n      <td>0.000000</td>\n      <td>0.000000</td>\n      <td>0.000000</td>\n    </tr>\n    <tr>\n      <th>...</th>\n      <td>...</td>\n      <td>...</td>\n      <td>...</td>\n      <td>...</td>\n      <td>...</td>\n      <td>...</td>\n      <td>...</td>\n      <td>...</td>\n      <td>...</td>\n      <td>...</td>\n      <td>...</td>\n      <td>...</td>\n      <td>...</td>\n      <td>...</td>\n      <td>...</td>\n      <td>...</td>\n      <td>...</td>\n      <td>...</td>\n      <td>...</td>\n      <td>...</td>\n      <td>...</td>\n    </tr>\n    <tr>\n      <th>24075</th>\n      <td>0.333538</td>\n      <td>1.023685</td>\n      <td>-0.000081</td>\n      <td>0.372105</td>\n      <td>0.912273</td>\n      <td>-0.001714</td>\n      <td>0.387207</td>\n      <td>0.824449</td>\n      <td>-0.005391</td>\n      <td>0.381112</td>\n      <td>...</td>\n      <td>-0.009674</td>\n      <td>0.307134</td>\n      <td>0.755611</td>\n      <td>-0.021702</td>\n      <td>0.321413</td>\n      <td>0.781115</td>\n      <td>-0.022297</td>\n      <td>0.330666</td>\n      <td>0.820271</td>\n      <td>-0.013748</td>\n    </tr>\n    <tr>\n      <th>24076</th>\n      <td>0.000000</td>\n      <td>0.000000</td>\n      <td>0.000000</td>\n      <td>0.000000</td>\n      <td>0.000000</td>\n      <td>0.000000</td>\n      <td>0.000000</td>\n      <td>0.000000</td>\n      <td>0.000000</td>\n      <td>0.000000</td>\n      <td>...</td>\n      <td>0.000000</td>\n      <td>0.000000</td>\n      <td>0.000000</td>\n      <td>0.000000</td>\n      <td>0.000000</td>\n      <td>0.000000</td>\n      <td>0.000000</td>\n      <td>0.000000</td>\n      <td>0.000000</td>\n      <td>0.000000</td>\n    </tr>\n    <tr>\n      <th>24077</th>\n      <td>0.000000</td>\n      <td>0.000000</td>\n      <td>0.000000</td>\n      <td>0.000000</td>\n      <td>0.000000</td>\n      <td>0.000000</td>\n      <td>0.000000</td>\n      <td>0.000000</td>\n      <td>0.000000</td>\n      <td>0.000000</td>\n      <td>...</td>\n      <td>0.000000</td>\n      <td>0.000000</td>\n      <td>0.000000</td>\n      <td>0.000000</td>\n      <td>0.000000</td>\n      <td>0.000000</td>\n      <td>0.000000</td>\n      <td>0.000000</td>\n      <td>0.000000</td>\n      <td>0.000000</td>\n    </tr>\n    <tr>\n      <th>24078</th>\n      <td>0.000000</td>\n      <td>0.000000</td>\n      <td>0.000000</td>\n      <td>0.000000</td>\n      <td>0.000000</td>\n      <td>0.000000</td>\n      <td>0.000000</td>\n      <td>0.000000</td>\n      <td>0.000000</td>\n      <td>0.000000</td>\n      <td>...</td>\n      <td>0.000000</td>\n      <td>0.000000</td>\n      <td>0.000000</td>\n      <td>0.000000</td>\n      <td>0.000000</td>\n      <td>0.000000</td>\n      <td>0.000000</td>\n      <td>0.000000</td>\n      <td>0.000000</td>\n      <td>0.000000</td>\n    </tr>\n    <tr>\n      <th>24079</th>\n      <td>0.000000</td>\n      <td>0.000000</td>\n      <td>0.000000</td>\n      <td>0.000000</td>\n      <td>0.000000</td>\n      <td>0.000000</td>\n      <td>0.000000</td>\n      <td>0.000000</td>\n      <td>0.000000</td>\n      <td>0.000000</td>\n      <td>...</td>\n      <td>0.000000</td>\n      <td>0.000000</td>\n      <td>0.000000</td>\n      <td>0.000000</td>\n      <td>0.000000</td>\n      <td>0.000000</td>\n      <td>0.000000</td>\n      <td>0.000000</td>\n      <td>0.000000</td>\n      <td>0.000000</td>\n    </tr>\n  </tbody>\n</table>\n<p>38528 rows × 63 columns</p>\n</div>"
     },
     "metadata": {},
     "execution_count": 42
    }
   ],
   "source": [
    "weight_hand_left = weight.iloc[:,:63]\n",
    "weight_hand_right = weight.iloc[:,63:126]\n",
    "weight_face = weight.iloc[:,126:]\n",
    "weight_hand_right"
   ]
  },
  {
   "cell_type": "code",
   "execution_count": 43,
   "metadata": {},
   "outputs": [
    {
     "output_type": "execute_result",
     "data": {
      "text/plain": [
       "     class_name\n",
       "0           BAN\n",
       "1           BAN\n",
       "2           BAN\n",
       "3           BAN\n",
       "4           BAN\n",
       "...         ...\n",
       "1500          U\n",
       "1501          U\n",
       "1502          U\n",
       "1503          U\n",
       "1504          U\n",
       "\n",
       "[2408 rows x 1 columns]"
      ],
      "text/html": "<div>\n<style scoped>\n    .dataframe tbody tr th:only-of-type {\n        vertical-align: middle;\n    }\n\n    .dataframe tbody tr th {\n        vertical-align: top;\n    }\n\n    .dataframe thead th {\n        text-align: right;\n    }\n</style>\n<table border=\"1\" class=\"dataframe\">\n  <thead>\n    <tr style=\"text-align: right;\">\n      <th></th>\n      <th>class_name</th>\n    </tr>\n  </thead>\n  <tbody>\n    <tr>\n      <th>0</th>\n      <td>BAN</td>\n    </tr>\n    <tr>\n      <th>1</th>\n      <td>BAN</td>\n    </tr>\n    <tr>\n      <th>2</th>\n      <td>BAN</td>\n    </tr>\n    <tr>\n      <th>3</th>\n      <td>BAN</td>\n    </tr>\n    <tr>\n      <th>4</th>\n      <td>BAN</td>\n    </tr>\n    <tr>\n      <th>...</th>\n      <td>...</td>\n    </tr>\n    <tr>\n      <th>1500</th>\n      <td>U</td>\n    </tr>\n    <tr>\n      <th>1501</th>\n      <td>U</td>\n    </tr>\n    <tr>\n      <th>1502</th>\n      <td>U</td>\n    </tr>\n    <tr>\n      <th>1503</th>\n      <td>U</td>\n    </tr>\n    <tr>\n      <th>1504</th>\n      <td>U</td>\n    </tr>\n  </tbody>\n</table>\n<p>2408 rows × 1 columns</p>\n</div>"
     },
     "metadata": {},
     "execution_count": 43
    }
   ],
   "source": [
    "label"
   ]
  },
  {
   "cell_type": "code",
   "execution_count": 44,
   "metadata": {},
   "outputs": [],
   "source": [
    "y = label.to_numpy()\n",
    "\n",
    "def datalabel(weight):\n",
    "    data = weight.to_numpy()\n",
    "    \n",
    "    x = []\n",
    "    for i in range(0,len(y)):\n",
    "        a = []\n",
    "        for j in range(0,16):\n",
    "            a.append(data[j+16*i])\n",
    "        x.append(a)\n",
    "    return np.array(x)"
   ]
  },
  {
   "cell_type": "code",
   "execution_count": 45,
   "metadata": {},
   "outputs": [
    {
     "output_type": "execute_result",
     "data": {
      "text/plain": [
       "(2408, 16, 1404)"
      ]
     },
     "metadata": {},
     "execution_count": 45
    }
   ],
   "source": [
    "x_hand_right = datalabel(weight_hand_right)\n",
    "x_hand_left = datalabel(weight_hand_left)\n",
    "x_face = datalabel(weight_face)\n",
    "x_face.shape"
   ]
  },
  {
   "cell_type": "code",
   "execution_count": 46,
   "metadata": {},
   "outputs": [
    {
     "output_type": "execute_result",
     "data": {
      "text/plain": [
       "array([0, 0, 0, ..., 7, 7, 7], dtype=int64)"
      ]
     },
     "metadata": {},
     "execution_count": 46
    }
   ],
   "source": [
    "class_num = label.drop_duplicates()\n",
    "name = ['class']\n",
    "with open('ClassName.csv', mode='w', newline='') as f:\n",
    "    csv_writer = csv.writer(f, delimiter=',', quotechar='\"', quoting=csv.QUOTE_MINIMAL)\n",
    "    csv_writer.writerow(name)\n",
    "    for i in class_num.to_numpy():\n",
    "        csv_writer.writerow(i)\n",
    "class_num.to_numpy()\n",
    "y_label = np.array([np.where(class_num == i)[0][0] for i in y])\n",
    "y_label"
   ]
  },
  {
   "cell_type": "code",
   "execution_count": null,
   "metadata": {},
   "outputs": [],
   "source": []
  },
  {
   "cell_type": "code",
   "execution_count": 47,
   "metadata": {},
   "outputs": [],
   "source": [
    "import csv\n",
    "with open('ClassName.csv',mode='a',newline='') as f:\n",
    "    csv_writer = csv.writer(f, delimiter=',',quotechar='\"',quoting=csv.QUOTE_MINIMAL)\n",
    "    csv_writer.writerow(class_num)"
   ]
  },
  {
   "cell_type": "code",
   "execution_count": 60,
   "metadata": {},
   "outputs": [],
   "source": [
    "# x_data = x\n",
    "def handmodel(hand):\n",
    "    frame1 = layers.Reshape((-1,1008))(hand)\n",
    "    frame1 = layers.LSTM(504,kernel_regularizer=tf.keras.regularizers.l1(0.01),\n",
    "                        activity_regularizer=tf.keras.regularizers.l2(0.01),\n",
    "                        activation='tanh',return_sequences=True)(frame1)\n",
    "    frame1 = layers.Dropout(0.4)(frame1)\n",
    "    frame1 = layers.Dense(50)(frame1)\n",
    "    return frame1\n",
    "\n",
    "def facemodel(face):\n",
    "    frame1 = layers.Reshape((-1,22464))(face)\n",
    "    frame1 = layers.LSTM(1404,kernel_regularizer=tf.keras.regularizers.l1(0.01),\n",
    "                        activity_regularizer=tf.keras.regularizers.l2(0.01),\n",
    "                        activation='tanh',return_sequences=True)(frame1)\n",
    "    frame1 = layers.Dropout(0.4)(frame1)\n",
    "    frame1 = layers.Dense(50)(frame1)\n",
    "    return frame1"
   ]
  },
  {
   "cell_type": "code",
   "execution_count": 61,
   "metadata": {},
   "outputs": [
    {
     "output_type": "stream",
     "name": "stdout",
     "text": [
      "Model: \"model_6\"\n__________________________________________________________________________________________________\nLayer (type)                    Output Shape         Param #     Connected to                     \n==================================================================================================\ninput_43 (InputLayer)           [(None, 16, 63)]     0                                            \n__________________________________________________________________________________________________\ninput_44 (InputLayer)           [(None, 16, 63)]     0                                            \n__________________________________________________________________________________________________\ninput_45 (InputLayer)           [(None, 16, 1404)]   0                                            \n__________________________________________________________________________________________________\nflatten_35 (Flatten)            (None, 1008)         0           input_43[0][0]                   \n__________________________________________________________________________________________________\nflatten_34 (Flatten)            (None, 1008)         0           input_44[0][0]                   \n__________________________________________________________________________________________________\nflatten_33 (Flatten)            (None, 22464)        0           input_45[0][0]                   \n__________________________________________________________________________________________________\nreshape_45 (Reshape)            (None, None, 1008)   0           flatten_35[0][0]                 \n__________________________________________________________________________________________________\nreshape_44 (Reshape)            (None, None, 1008)   0           flatten_34[0][0]                 \n__________________________________________________________________________________________________\nreshape_43 (Reshape)            (None, None, 22464)  0           flatten_33[0][0]                 \n__________________________________________________________________________________________________\nlstm_46 (LSTM)                  (None, None, 504)    3050208     reshape_45[0][0]                 \n__________________________________________________________________________________________________\nlstm_45 (LSTM)                  (None, None, 504)    3050208     reshape_44[0][0]                 \n__________________________________________________________________________________________________\nlstm_44 (LSTM)                  (None, None, 1404)   134048304   reshape_43[0][0]                 \n__________________________________________________________________________________________________\ndropout_21 (Dropout)            (None, None, 504)    0           lstm_46[0][0]                    \n__________________________________________________________________________________________________\ndropout_20 (Dropout)            (None, None, 504)    0           lstm_45[0][0]                    \n__________________________________________________________________________________________________\ndropout_19 (Dropout)            (None, None, 1404)   0           lstm_44[0][0]                    \n__________________________________________________________________________________________________\ndense_42 (Dense)                (None, None, 50)     25250       dropout_21[0][0]                 \n__________________________________________________________________________________________________\ndense_41 (Dense)                (None, None, 50)     25250       dropout_20[0][0]                 \n__________________________________________________________________________________________________\ndense_40 (Dense)                (None, None, 50)     70250       dropout_19[0][0]                 \n__________________________________________________________________________________________________\nconcatenate_20 (Concatenate)    (None, None, 150)    0           dense_42[0][0]                   \n                                                                 dense_41[0][0]                   \n                                                                 dense_40[0][0]                   \n__________________________________________________________________________________________________\nreshape_46 (Reshape)            (None, None, 150)    0           concatenate_20[0][0]             \n__________________________________________________________________________________________________\nlstm_47 (LSTM)                  (None, 150)          180600      reshape_46[0][0]                 \n__________________________________________________________________________________________________\ndropout_22 (Dropout)            (None, 150)          0           lstm_47[0][0]                    \n__________________________________________________________________________________________________\ndense_43 (Dense)                (None, 8)            1208        dropout_22[0][0]                 \n==================================================================================================\nTotal params: 140,451,278\nTrainable params: 140,451,278\nNon-trainable params: 0\n__________________________________________________________________________________________________\n"
     ]
    }
   ],
   "source": [
    "def buildmodel():\n",
    "    left_hand = layers.Input(shape=(16,63))\n",
    "    right_hand = layers.Input(shape=(16,63))\n",
    "    face = layers.Input(shape=(16,1404))\n",
    "    ##Input##\n",
    "    #Mid Layer##\n",
    "    ###Face Branch###\n",
    "    Face = layers.Flatten()(face)\n",
    "    Face = facemodel(Face)\n",
    "    ###Right Hand###\n",
    "    RH = layers.Flatten()(right_hand)\n",
    "    RH = handmodel(RH)\n",
    "    ###Left Hand###\n",
    "    LH = layers.Flatten()(left_hand)\n",
    "    LH = handmodel(LH)\n",
    "    ###Combine###\n",
    "    combined = layers.concatenate([LH,RH,Face])\n",
    "    shaped = layers.Reshape((-1,150))(combined)\n",
    "    results = layers.LSTM(150,activation='sigmoid')(shaped)\n",
    "    results = layers.Dropout(0.1)(results)\n",
    "    results = layers.Dense(len(class_num),activation='softmax')(results)\n",
    "    model = models.Model([left_hand, right_hand, face],results)\n",
    "    return model\n",
    "model = buildmodel()\n",
    "\n",
    "model.summary()"
   ]
  },
  {
   "cell_type": "code",
   "execution_count": 62,
   "metadata": {},
   "outputs": [
    {
     "output_type": "stream",
     "name": "stdout",
     "text": [
      "Model: \"model_6\"\n__________________________________________________________________________________________________\nLayer (type)                    Output Shape         Param #     Connected to                     \n==================================================================================================\ninput_43 (InputLayer)           [(None, 16, 63)]     0                                            \n__________________________________________________________________________________________________\ninput_44 (InputLayer)           [(None, 16, 63)]     0                                            \n__________________________________________________________________________________________________\ninput_45 (InputLayer)           [(None, 16, 1404)]   0                                            \n__________________________________________________________________________________________________\nflatten_35 (Flatten)            (None, 1008)         0           input_43[0][0]                   \n__________________________________________________________________________________________________\nflatten_34 (Flatten)            (None, 1008)         0           input_44[0][0]                   \n__________________________________________________________________________________________________\nflatten_33 (Flatten)            (None, 22464)        0           input_45[0][0]                   \n__________________________________________________________________________________________________\nreshape_45 (Reshape)            (None, None, 1008)   0           flatten_35[0][0]                 \n__________________________________________________________________________________________________\nreshape_44 (Reshape)            (None, None, 1008)   0           flatten_34[0][0]                 \n__________________________________________________________________________________________________\nreshape_43 (Reshape)            (None, None, 22464)  0           flatten_33[0][0]                 \n__________________________________________________________________________________________________\nlstm_46 (LSTM)                  (None, None, 504)    3050208     reshape_45[0][0]                 \n__________________________________________________________________________________________________\nlstm_45 (LSTM)                  (None, None, 504)    3050208     reshape_44[0][0]                 \n__________________________________________________________________________________________________\nlstm_44 (LSTM)                  (None, None, 1404)   134048304   reshape_43[0][0]                 \n__________________________________________________________________________________________________\ndropout_21 (Dropout)            (None, None, 504)    0           lstm_46[0][0]                    \n__________________________________________________________________________________________________\ndropout_20 (Dropout)            (None, None, 504)    0           lstm_45[0][0]                    \n__________________________________________________________________________________________________\ndropout_19 (Dropout)            (None, None, 1404)   0           lstm_44[0][0]                    \n__________________________________________________________________________________________________\ndense_42 (Dense)                (None, None, 50)     25250       dropout_21[0][0]                 \n__________________________________________________________________________________________________\ndense_41 (Dense)                (None, None, 50)     25250       dropout_20[0][0]                 \n__________________________________________________________________________________________________\ndense_40 (Dense)                (None, None, 50)     70250       dropout_19[0][0]                 \n__________________________________________________________________________________________________\nconcatenate_20 (Concatenate)    (None, None, 150)    0           dense_42[0][0]                   \n                                                                 dense_41[0][0]                   \n                                                                 dense_40[0][0]                   \n__________________________________________________________________________________________________\nreshape_46 (Reshape)            (None, None, 150)    0           concatenate_20[0][0]             \n__________________________________________________________________________________________________\nlstm_47 (LSTM)                  (None, 150)          180600      reshape_46[0][0]                 \n__________________________________________________________________________________________________\ndropout_22 (Dropout)            (None, 150)          0           lstm_47[0][0]                    \n__________________________________________________________________________________________________\ndense_43 (Dense)                (None, 8)            1208        dropout_22[0][0]                 \n==================================================================================================\nTotal params: 140,451,278\nTrainable params: 140,451,278\nNon-trainable params: 0\n__________________________________________________________________________________________________\n"
     ]
    }
   ],
   "source": [
    "\n",
    "model.summary()\n",
    "# model = models.Sequential([\n",
    "#     layers.Input(shape=(16,1530)),\n",
    "#     layers.Flatten(),\n",
    "#     layers.Reshape((-1,8160)),\n",
    "#     layers.LayerNormalization( axis=-1),\n",
    "#     layers.LSTM(1530,kernel_regularizer=tf.keras.regularizers.l1(0.01),\n",
    "#                      activity_regularizer=tf.keras.regularizers.l2(0.01),\n",
    "#                      activation='tanh',return_sequences=True),\n",
    "#     layers.Reshape((-1,1530)),\n",
    "#     layers.Bidirectional(layers.LSTM(310,activation='sigmoid')),\n",
    "#     layers.Dropout(0.1),\n",
    "#     layers.Dense(65,activation='tanh'),\n",
    "#     layers.Dropout(0.1),\n",
    "#     layers.Dense(len(class_num),activation='softmax')\n",
    "# ])\n",
    "# model.summary()"
   ]
  },
  {
   "cell_type": "code",
   "execution_count": 63,
   "metadata": {},
   "outputs": [],
   "source": [
    "from sklearn.model_selection import train_test_split\n",
    "X_hand_right_train,X_hand_right_test,X_hand_left_train,X_hand_left_test,X_face_train,X_face_test,Y_train,Y_test = train_test_split(x_hand_right,x_hand_left,x_face,y_label,test_size=0.3,random_state=1234)\n",
    "# print(X_train.shape)"
   ]
  },
  {
   "cell_type": "code",
   "execution_count": 66,
   "metadata": {},
   "outputs": [
    {
     "output_type": "stream",
     "name": "stdout",
     "text": [
      "WARNING:tensorflow:`period` argument is deprecated. Please use `save_freq` to specify the frequency in number of batches seen.\n"
     ]
    }
   ],
   "source": [
    "cp_callback = ModelCheckpoint(\n",
    "    './', verbose=1, save_weights_only=False)\n",
    "es_callback = EarlyStopping(patience=20, verbose=1)\n",
    "model.compile(\n",
    "    optimizer='adam',\n",
    "    loss='sparse_categorical_crossentropy',\n",
    "    metrics=['accuracy']\n",
    "    )\n",
    "checkpoint = ModelCheckpoint('../models/model.h5', monitor='val_acc', verbose=1, mode = 'max', save_best_only=True, save_weights_only=False, period=1)\n"
   ]
  },
  {
   "cell_type": "code",
   "execution_count": 65,
   "metadata": {
    "tags": []
   },
   "outputs": [
    {
     "output_type": "stream",
     "name": "stdout",
     "text": [
      "Epoch 1/100\n",
      "21/53 [==========>...................] - ETA: 30s - loss: 3667.7556 - accuracy: 0.1979"
     ]
    },
    {
     "output_type": "error",
     "ename": "KeyboardInterrupt",
     "evalue": "",
     "traceback": [
      "\u001b[1;31m---------------------------------------------------------------------------\u001b[0m",
      "\u001b[1;31mKeyboardInterrupt\u001b[0m                         Traceback (most recent call last)",
      "\u001b[1;32m<ipython-input-65-edbc82df967d>\u001b[0m in \u001b[0;36m<module>\u001b[1;34m\u001b[0m\n\u001b[0;32m      5\u001b[0m     \u001b[0mbatch_size\u001b[0m\u001b[1;33m=\u001b[0m\u001b[1;36m32\u001b[0m\u001b[1;33m,\u001b[0m\u001b[1;33m\u001b[0m\u001b[0m\n\u001b[0;32m      6\u001b[0m     \u001b[0mvalidation_data\u001b[0m\u001b[1;33m=\u001b[0m\u001b[1;33m(\u001b[0m\u001b[1;33m[\u001b[0m\u001b[0mX_hand_left_test\u001b[0m\u001b[1;33m,\u001b[0m\u001b[0mX_hand_right_test\u001b[0m\u001b[1;33m,\u001b[0m\u001b[0mX_face_test\u001b[0m\u001b[1;33m]\u001b[0m\u001b[1;33m,\u001b[0m \u001b[0mY_test\u001b[0m\u001b[1;33m)\u001b[0m\u001b[1;33m,\u001b[0m\u001b[1;33m\u001b[0m\u001b[0m\n\u001b[1;32m----> 7\u001b[1;33m     \u001b[0mcallbacks\u001b[0m\u001b[1;33m=\u001b[0m\u001b[1;33m[\u001b[0m\u001b[0mcp_callback\u001b[0m\u001b[1;33m,\u001b[0m\u001b[0mes_callback\u001b[0m\u001b[1;33m]\u001b[0m\u001b[1;33m\u001b[0m\u001b[0m\n\u001b[0m\u001b[0;32m      8\u001b[0m )\n",
      "\u001b[1;32m~\\AppData\\Local\\Programs\\Python\\Python37\\lib\\site-packages\\tensorflow\\python\\keras\\engine\\training.py\u001b[0m in \u001b[0;36m_method_wrapper\u001b[1;34m(self, *args, **kwargs)\u001b[0m\n\u001b[0;32m     64\u001b[0m   \u001b[1;32mdef\u001b[0m \u001b[0m_method_wrapper\u001b[0m\u001b[1;33m(\u001b[0m\u001b[0mself\u001b[0m\u001b[1;33m,\u001b[0m \u001b[1;33m*\u001b[0m\u001b[0margs\u001b[0m\u001b[1;33m,\u001b[0m \u001b[1;33m**\u001b[0m\u001b[0mkwargs\u001b[0m\u001b[1;33m)\u001b[0m\u001b[1;33m:\u001b[0m\u001b[1;33m\u001b[0m\u001b[0m\n\u001b[0;32m     65\u001b[0m     \u001b[1;32mif\u001b[0m \u001b[1;32mnot\u001b[0m \u001b[0mself\u001b[0m\u001b[1;33m.\u001b[0m\u001b[0m_in_multi_worker_mode\u001b[0m\u001b[1;33m(\u001b[0m\u001b[1;33m)\u001b[0m\u001b[1;33m:\u001b[0m  \u001b[1;31m# pylint: disable=protected-access\u001b[0m\u001b[1;33m\u001b[0m\u001b[0m\n\u001b[1;32m---> 66\u001b[1;33m       \u001b[1;32mreturn\u001b[0m \u001b[0mmethod\u001b[0m\u001b[1;33m(\u001b[0m\u001b[0mself\u001b[0m\u001b[1;33m,\u001b[0m \u001b[1;33m*\u001b[0m\u001b[0margs\u001b[0m\u001b[1;33m,\u001b[0m \u001b[1;33m**\u001b[0m\u001b[0mkwargs\u001b[0m\u001b[1;33m)\u001b[0m\u001b[1;33m\u001b[0m\u001b[0m\n\u001b[0m\u001b[0;32m     67\u001b[0m \u001b[1;33m\u001b[0m\u001b[0m\n\u001b[0;32m     68\u001b[0m     \u001b[1;31m# Running inside `run_distribute_coordinator` already.\u001b[0m\u001b[1;33m\u001b[0m\u001b[1;33m\u001b[0m\u001b[0m\n",
      "\u001b[1;32m~\\AppData\\Local\\Programs\\Python\\Python37\\lib\\site-packages\\tensorflow\\python\\keras\\engine\\training.py\u001b[0m in \u001b[0;36mfit\u001b[1;34m(self, x, y, batch_size, epochs, verbose, callbacks, validation_split, validation_data, shuffle, class_weight, sample_weight, initial_epoch, steps_per_epoch, validation_steps, validation_batch_size, validation_freq, max_queue_size, workers, use_multiprocessing)\u001b[0m\n\u001b[0;32m    846\u001b[0m                 batch_size=batch_size):\n\u001b[0;32m    847\u001b[0m               \u001b[0mcallbacks\u001b[0m\u001b[1;33m.\u001b[0m\u001b[0mon_train_batch_begin\u001b[0m\u001b[1;33m(\u001b[0m\u001b[0mstep\u001b[0m\u001b[1;33m)\u001b[0m\u001b[1;33m\u001b[0m\u001b[0m\n\u001b[1;32m--> 848\u001b[1;33m               \u001b[0mtmp_logs\u001b[0m \u001b[1;33m=\u001b[0m \u001b[0mtrain_function\u001b[0m\u001b[1;33m(\u001b[0m\u001b[0miterator\u001b[0m\u001b[1;33m)\u001b[0m\u001b[1;33m\u001b[0m\u001b[0m\n\u001b[0m\u001b[0;32m    849\u001b[0m               \u001b[1;31m# Catch OutOfRangeError for Datasets of unknown size.\u001b[0m\u001b[1;33m\u001b[0m\u001b[1;33m\u001b[0m\u001b[0m\n\u001b[0;32m    850\u001b[0m               \u001b[1;31m# This blocks until the batch has finished executing.\u001b[0m\u001b[1;33m\u001b[0m\u001b[1;33m\u001b[0m\u001b[0m\n",
      "\u001b[1;32m~\\AppData\\Local\\Programs\\Python\\Python37\\lib\\site-packages\\tensorflow\\python\\eager\\def_function.py\u001b[0m in \u001b[0;36m__call__\u001b[1;34m(self, *args, **kwds)\u001b[0m\n\u001b[0;32m    578\u001b[0m         \u001b[0mxla_context\u001b[0m\u001b[1;33m.\u001b[0m\u001b[0mExit\u001b[0m\u001b[1;33m(\u001b[0m\u001b[1;33m)\u001b[0m\u001b[1;33m\u001b[0m\u001b[0m\n\u001b[0;32m    579\u001b[0m     \u001b[1;32melse\u001b[0m\u001b[1;33m:\u001b[0m\u001b[1;33m\u001b[0m\u001b[0m\n\u001b[1;32m--> 580\u001b[1;33m       \u001b[0mresult\u001b[0m \u001b[1;33m=\u001b[0m \u001b[0mself\u001b[0m\u001b[1;33m.\u001b[0m\u001b[0m_call\u001b[0m\u001b[1;33m(\u001b[0m\u001b[1;33m*\u001b[0m\u001b[0margs\u001b[0m\u001b[1;33m,\u001b[0m \u001b[1;33m**\u001b[0m\u001b[0mkwds\u001b[0m\u001b[1;33m)\u001b[0m\u001b[1;33m\u001b[0m\u001b[0m\n\u001b[0m\u001b[0;32m    581\u001b[0m \u001b[1;33m\u001b[0m\u001b[0m\n\u001b[0;32m    582\u001b[0m     \u001b[1;32mif\u001b[0m \u001b[0mtracing_count\u001b[0m \u001b[1;33m==\u001b[0m \u001b[0mself\u001b[0m\u001b[1;33m.\u001b[0m\u001b[0m_get_tracing_count\u001b[0m\u001b[1;33m(\u001b[0m\u001b[1;33m)\u001b[0m\u001b[1;33m:\u001b[0m\u001b[1;33m\u001b[0m\u001b[0m\n",
      "\u001b[1;32m~\\AppData\\Local\\Programs\\Python\\Python37\\lib\\site-packages\\tensorflow\\python\\eager\\def_function.py\u001b[0m in \u001b[0;36m_call\u001b[1;34m(self, *args, **kwds)\u001b[0m\n\u001b[0;32m    609\u001b[0m       \u001b[1;31m# In this case we have created variables on the first call, so we run the\u001b[0m\u001b[1;33m\u001b[0m\u001b[1;33m\u001b[0m\u001b[0m\n\u001b[0;32m    610\u001b[0m       \u001b[1;31m# defunned version which is guaranteed to never create variables.\u001b[0m\u001b[1;33m\u001b[0m\u001b[1;33m\u001b[0m\u001b[0m\n\u001b[1;32m--> 611\u001b[1;33m       \u001b[1;32mreturn\u001b[0m \u001b[0mself\u001b[0m\u001b[1;33m.\u001b[0m\u001b[0m_stateless_fn\u001b[0m\u001b[1;33m(\u001b[0m\u001b[1;33m*\u001b[0m\u001b[0margs\u001b[0m\u001b[1;33m,\u001b[0m \u001b[1;33m**\u001b[0m\u001b[0mkwds\u001b[0m\u001b[1;33m)\u001b[0m  \u001b[1;31m# pylint: disable=not-callable\u001b[0m\u001b[1;33m\u001b[0m\u001b[0m\n\u001b[0m\u001b[0;32m    612\u001b[0m     \u001b[1;32melif\u001b[0m \u001b[0mself\u001b[0m\u001b[1;33m.\u001b[0m\u001b[0m_stateful_fn\u001b[0m \u001b[1;32mis\u001b[0m \u001b[1;32mnot\u001b[0m \u001b[1;32mNone\u001b[0m\u001b[1;33m:\u001b[0m\u001b[1;33m\u001b[0m\u001b[0m\n\u001b[0;32m    613\u001b[0m       \u001b[1;31m# Release the lock early so that multiple threads can perform the call\u001b[0m\u001b[1;33m\u001b[0m\u001b[1;33m\u001b[0m\u001b[0m\n",
      "\u001b[1;32m~\\AppData\\Local\\Programs\\Python\\Python37\\lib\\site-packages\\tensorflow\\python\\eager\\function.py\u001b[0m in \u001b[0;36m__call__\u001b[1;34m(self, *args, **kwargs)\u001b[0m\n\u001b[0;32m   2418\u001b[0m     \u001b[1;32mwith\u001b[0m \u001b[0mself\u001b[0m\u001b[1;33m.\u001b[0m\u001b[0m_lock\u001b[0m\u001b[1;33m:\u001b[0m\u001b[1;33m\u001b[0m\u001b[0m\n\u001b[0;32m   2419\u001b[0m       \u001b[0mgraph_function\u001b[0m\u001b[1;33m,\u001b[0m \u001b[0margs\u001b[0m\u001b[1;33m,\u001b[0m \u001b[0mkwargs\u001b[0m \u001b[1;33m=\u001b[0m \u001b[0mself\u001b[0m\u001b[1;33m.\u001b[0m\u001b[0m_maybe_define_function\u001b[0m\u001b[1;33m(\u001b[0m\u001b[0margs\u001b[0m\u001b[1;33m,\u001b[0m \u001b[0mkwargs\u001b[0m\u001b[1;33m)\u001b[0m\u001b[1;33m\u001b[0m\u001b[0m\n\u001b[1;32m-> 2420\u001b[1;33m     \u001b[1;32mreturn\u001b[0m \u001b[0mgraph_function\u001b[0m\u001b[1;33m.\u001b[0m\u001b[0m_filtered_call\u001b[0m\u001b[1;33m(\u001b[0m\u001b[0margs\u001b[0m\u001b[1;33m,\u001b[0m \u001b[0mkwargs\u001b[0m\u001b[1;33m)\u001b[0m  \u001b[1;31m# pylint: disable=protected-access\u001b[0m\u001b[1;33m\u001b[0m\u001b[0m\n\u001b[0m\u001b[0;32m   2421\u001b[0m \u001b[1;33m\u001b[0m\u001b[0m\n\u001b[0;32m   2422\u001b[0m   \u001b[1;33m@\u001b[0m\u001b[0mproperty\u001b[0m\u001b[1;33m\u001b[0m\u001b[0m\n",
      "\u001b[1;32m~\\AppData\\Local\\Programs\\Python\\Python37\\lib\\site-packages\\tensorflow\\python\\eager\\function.py\u001b[0m in \u001b[0;36m_filtered_call\u001b[1;34m(self, args, kwargs)\u001b[0m\n\u001b[0;32m   1663\u001b[0m          if isinstance(t, (ops.Tensor,\n\u001b[0;32m   1664\u001b[0m                            resource_variable_ops.BaseResourceVariable))),\n\u001b[1;32m-> 1665\u001b[1;33m         self.captured_inputs)\n\u001b[0m\u001b[0;32m   1666\u001b[0m \u001b[1;33m\u001b[0m\u001b[0m\n\u001b[0;32m   1667\u001b[0m   \u001b[1;32mdef\u001b[0m \u001b[0m_call_flat\u001b[0m\u001b[1;33m(\u001b[0m\u001b[0mself\u001b[0m\u001b[1;33m,\u001b[0m \u001b[0margs\u001b[0m\u001b[1;33m,\u001b[0m \u001b[0mcaptured_inputs\u001b[0m\u001b[1;33m,\u001b[0m \u001b[0mcancellation_manager\u001b[0m\u001b[1;33m=\u001b[0m\u001b[1;32mNone\u001b[0m\u001b[1;33m)\u001b[0m\u001b[1;33m:\u001b[0m\u001b[1;33m\u001b[0m\u001b[0m\n",
      "\u001b[1;32m~\\AppData\\Local\\Programs\\Python\\Python37\\lib\\site-packages\\tensorflow\\python\\eager\\function.py\u001b[0m in \u001b[0;36m_call_flat\u001b[1;34m(self, args, captured_inputs, cancellation_manager)\u001b[0m\n\u001b[0;32m   1744\u001b[0m       \u001b[1;31m# No tape is watching; skip to running the function.\u001b[0m\u001b[1;33m\u001b[0m\u001b[1;33m\u001b[0m\u001b[0m\n\u001b[0;32m   1745\u001b[0m       return self._build_call_outputs(self._inference_function.call(\n\u001b[1;32m-> 1746\u001b[1;33m           ctx, args, cancellation_manager=cancellation_manager))\n\u001b[0m\u001b[0;32m   1747\u001b[0m     forward_backward = self._select_forward_and_backward_functions(\n\u001b[0;32m   1748\u001b[0m         \u001b[0margs\u001b[0m\u001b[1;33m,\u001b[0m\u001b[1;33m\u001b[0m\u001b[0m\n",
      "\u001b[1;32m~\\AppData\\Local\\Programs\\Python\\Python37\\lib\\site-packages\\tensorflow\\python\\eager\\function.py\u001b[0m in \u001b[0;36mcall\u001b[1;34m(self, ctx, args, cancellation_manager)\u001b[0m\n\u001b[0;32m    596\u001b[0m               \u001b[0minputs\u001b[0m\u001b[1;33m=\u001b[0m\u001b[0margs\u001b[0m\u001b[1;33m,\u001b[0m\u001b[1;33m\u001b[0m\u001b[0m\n\u001b[0;32m    597\u001b[0m               \u001b[0mattrs\u001b[0m\u001b[1;33m=\u001b[0m\u001b[0mattrs\u001b[0m\u001b[1;33m,\u001b[0m\u001b[1;33m\u001b[0m\u001b[0m\n\u001b[1;32m--> 598\u001b[1;33m               ctx=ctx)\n\u001b[0m\u001b[0;32m    599\u001b[0m         \u001b[1;32melse\u001b[0m\u001b[1;33m:\u001b[0m\u001b[1;33m\u001b[0m\u001b[0m\n\u001b[0;32m    600\u001b[0m           outputs = execute.execute_with_cancellation(\n",
      "\u001b[1;32m~\\AppData\\Local\\Programs\\Python\\Python37\\lib\\site-packages\\tensorflow\\python\\eager\\execute.py\u001b[0m in \u001b[0;36mquick_execute\u001b[1;34m(op_name, num_outputs, inputs, attrs, ctx, name)\u001b[0m\n\u001b[0;32m     58\u001b[0m     \u001b[0mctx\u001b[0m\u001b[1;33m.\u001b[0m\u001b[0mensure_initialized\u001b[0m\u001b[1;33m(\u001b[0m\u001b[1;33m)\u001b[0m\u001b[1;33m\u001b[0m\u001b[0m\n\u001b[0;32m     59\u001b[0m     tensors = pywrap_tfe.TFE_Py_Execute(ctx._handle, device_name, op_name,\n\u001b[1;32m---> 60\u001b[1;33m                                         inputs, attrs, num_outputs)\n\u001b[0m\u001b[0;32m     61\u001b[0m   \u001b[1;32mexcept\u001b[0m \u001b[0mcore\u001b[0m\u001b[1;33m.\u001b[0m\u001b[0m_NotOkStatusException\u001b[0m \u001b[1;32mas\u001b[0m \u001b[0me\u001b[0m\u001b[1;33m:\u001b[0m\u001b[1;33m\u001b[0m\u001b[0m\n\u001b[0;32m     62\u001b[0m     \u001b[1;32mif\u001b[0m \u001b[0mname\u001b[0m \u001b[1;32mis\u001b[0m \u001b[1;32mnot\u001b[0m \u001b[1;32mNone\u001b[0m\u001b[1;33m:\u001b[0m\u001b[1;33m\u001b[0m\u001b[0m\n",
      "\u001b[1;31mKeyboardInterrupt\u001b[0m: "
     ]
    }
   ],
   "source": [
    "model.fit(\n",
    "    [X_hand_left_train,X_hand_right_train,X_face_train],\n",
    "    Y_train,\n",
    "    epochs=100,\n",
    "    batch_size=32,\n",
    "    validation_data=([X_hand_left_test,X_hand_right_test,X_face_test], Y_test),\n",
    "    callbacks=[cp_callback,es_callback]\n",
    ")"
   ]
  },
  {
   "cell_type": "code",
   "execution_count": 35,
   "metadata": {},
   "outputs": [],
   "source": [
    "model.save(\"./model.h5\", include_optimizer=False)"
   ]
  },
  {
   "cell_type": "code",
   "execution_count": 36,
   "metadata": {},
   "outputs": [
    {
     "output_type": "stream",
     "name": "stdout",
     "text": [
      "WARNING:tensorflow:No training configuration found in the save file, so the model was *not* compiled. Compile it manually.\n"
     ]
    }
   ],
   "source": [
    "from keras.models import load_model\n",
    "model = load_model(\"./model.h5\")"
   ]
  },
  {
   "cell_type": "code",
   "execution_count": 40,
   "metadata": {},
   "outputs": [
    {
     "output_type": "display_data",
     "data": {
      "text/plain": "<Figure size 504x432 with 2 Axes>",
      "image/svg+xml": "<?xml version=\"1.0\" encoding=\"utf-8\" standalone=\"no\"?>\r\n<!DOCTYPE svg PUBLIC \"-//W3C//DTD SVG 1.1//EN\"\r\n  \"http://www.w3.org/Graphics/SVG/1.1/DTD/svg11.dtd\">\r\n<!-- Created with matplotlib (https://matplotlib.org/) -->\r\n<svg height=\"357.238125pt\" version=\"1.1\" viewBox=\"0 0 405.483625 357.238125\" width=\"405.483625pt\" xmlns=\"http://www.w3.org/2000/svg\" xmlns:xlink=\"http://www.w3.org/1999/xlink\">\r\n <metadata>\r\n  <rdf:RDF xmlns:cc=\"http://creativecommons.org/ns#\" xmlns:dc=\"http://purl.org/dc/elements/1.1/\" xmlns:rdf=\"http://www.w3.org/1999/02/22-rdf-syntax-ns#\">\r\n   <cc:Work>\r\n    <dc:type rdf:resource=\"http://purl.org/dc/dcmitype/StillImage\"/>\r\n    <dc:date>2021-05-28T19:13:49.458408</dc:date>\r\n    <dc:format>image/svg+xml</dc:format>\r\n    <dc:creator>\r\n     <cc:Agent>\r\n      <dc:title>Matplotlib v3.3.4, https://matplotlib.org/</dc:title>\r\n     </cc:Agent>\r\n    </dc:creator>\r\n   </cc:Work>\r\n  </rdf:RDF>\r\n </metadata>\r\n <defs>\r\n  <style type=\"text/css\">*{stroke-linecap:butt;stroke-linejoin:round;}</style>\r\n </defs>\r\n <g id=\"figure_1\">\r\n  <g id=\"patch_1\">\r\n   <path d=\"M 0 357.238125 \r\nL 405.483625 357.238125 \r\nL 405.483625 0 \r\nL 0 0 \r\nz\r\n\" style=\"fill:none;\"/>\r\n  </g>\r\n  <g id=\"axes_1\">\r\n   <g id=\"patch_2\">\r\n    <path d=\"M 23.878125 333.36 \r\nL 336.358125 333.36 \r\nL 336.358125 7.2 \r\nL 23.878125 7.2 \r\nz\r\n\" style=\"fill:#ffffff;\"/>\r\n   </g>\r\n   <g id=\"QuadMesh_1\">\r\n    <path clip-path=\"url(#p85fbac9c6b)\" d=\"M 23.878125 7.2 \r\nL 62.938125 7.2 \r\nL 62.938125 47.97 \r\nL 23.878125 47.97 \r\nL 23.878125 7.2 \r\n\" style=\"fill:#f8d9c3;\"/>\r\n    <path clip-path=\"url(#p85fbac9c6b)\" d=\"M 62.938125 7.2 \r\nL 101.998125 7.2 \r\nL 101.998125 47.97 \r\nL 62.938125 47.97 \r\nL 62.938125 7.2 \r\n\" style=\"fill:#03051a;\"/>\r\n    <path clip-path=\"url(#p85fbac9c6b)\" d=\"M 101.998125 7.2 \r\nL 141.058125 7.2 \r\nL 141.058125 47.97 \r\nL 101.998125 47.97 \r\nL 101.998125 7.2 \r\n\" style=\"fill:#03051a;\"/>\r\n    <path clip-path=\"url(#p85fbac9c6b)\" d=\"M 141.058125 7.2 \r\nL 180.118125 7.2 \r\nL 180.118125 47.97 \r\nL 141.058125 47.97 \r\nL 141.058125 7.2 \r\n\" style=\"fill:#03051a;\"/>\r\n    <path clip-path=\"url(#p85fbac9c6b)\" d=\"M 180.118125 7.2 \r\nL 219.178125 7.2 \r\nL 219.178125 47.97 \r\nL 180.118125 47.97 \r\nL 180.118125 7.2 \r\n\" style=\"fill:#03051a;\"/>\r\n    <path clip-path=\"url(#p85fbac9c6b)\" d=\"M 219.178125 7.2 \r\nL 258.238125 7.2 \r\nL 258.238125 47.97 \r\nL 219.178125 47.97 \r\nL 219.178125 7.2 \r\n\" style=\"fill:#03051a;\"/>\r\n    <path clip-path=\"url(#p85fbac9c6b)\" d=\"M 258.238125 7.2 \r\nL 297.298125 7.2 \r\nL 297.298125 47.97 \r\nL 258.238125 47.97 \r\nL 258.238125 7.2 \r\n\" style=\"fill:#03051a;\"/>\r\n    <path clip-path=\"url(#p85fbac9c6b)\" d=\"M 297.298125 7.2 \r\nL 336.358125 7.2 \r\nL 336.358125 47.97 \r\nL 297.298125 47.97 \r\nL 297.298125 7.2 \r\n\" style=\"fill:#03051a;\"/>\r\n    <path clip-path=\"url(#p85fbac9c6b)\" d=\"M 23.878125 47.97 \r\nL 62.938125 47.97 \r\nL 62.938125 88.74 \r\nL 23.878125 88.74 \r\nL 23.878125 47.97 \r\n\" style=\"fill:#03051a;\"/>\r\n    <path clip-path=\"url(#p85fbac9c6b)\" d=\"M 62.938125 47.97 \r\nL 101.998125 47.97 \r\nL 101.998125 88.74 \r\nL 62.938125 88.74 \r\nL 62.938125 47.97 \r\n\" style=\"fill:#faebdd;\"/>\r\n    <path clip-path=\"url(#p85fbac9c6b)\" d=\"M 101.998125 47.97 \r\nL 141.058125 47.97 \r\nL 141.058125 88.74 \r\nL 101.998125 88.74 \r\nL 101.998125 47.97 \r\n\" style=\"fill:#03051a;\"/>\r\n    <path clip-path=\"url(#p85fbac9c6b)\" d=\"M 141.058125 47.97 \r\nL 180.118125 47.97 \r\nL 180.118125 88.74 \r\nL 141.058125 88.74 \r\nL 141.058125 47.97 \r\n\" style=\"fill:#03051a;\"/>\r\n    <path clip-path=\"url(#p85fbac9c6b)\" d=\"M 180.118125 47.97 \r\nL 219.178125 47.97 \r\nL 219.178125 88.74 \r\nL 180.118125 88.74 \r\nL 180.118125 47.97 \r\n\" style=\"fill:#03051a;\"/>\r\n    <path clip-path=\"url(#p85fbac9c6b)\" d=\"M 219.178125 47.97 \r\nL 258.238125 47.97 \r\nL 258.238125 88.74 \r\nL 219.178125 88.74 \r\nL 219.178125 47.97 \r\n\" style=\"fill:#03051a;\"/>\r\n    <path clip-path=\"url(#p85fbac9c6b)\" d=\"M 258.238125 47.97 \r\nL 297.298125 47.97 \r\nL 297.298125 88.74 \r\nL 258.238125 88.74 \r\nL 258.238125 47.97 \r\n\" style=\"fill:#03051a;\"/>\r\n    <path clip-path=\"url(#p85fbac9c6b)\" d=\"M 297.298125 47.97 \r\nL 336.358125 47.97 \r\nL 336.358125 88.74 \r\nL 297.298125 88.74 \r\nL 297.298125 47.97 \r\n\" style=\"fill:#03051a;\"/>\r\n    <path clip-path=\"url(#p85fbac9c6b)\" d=\"M 23.878125 88.74 \r\nL 62.938125 88.74 \r\nL 62.938125 129.51 \r\nL 23.878125 129.51 \r\nL 23.878125 88.74 \r\n\" style=\"fill:#03051a;\"/>\r\n    <path clip-path=\"url(#p85fbac9c6b)\" d=\"M 62.938125 88.74 \r\nL 101.998125 88.74 \r\nL 101.998125 129.51 \r\nL 62.938125 129.51 \r\nL 62.938125 88.74 \r\n\" style=\"fill:#03051a;\"/>\r\n    <path clip-path=\"url(#p85fbac9c6b)\" d=\"M 101.998125 88.74 \r\nL 141.058125 88.74 \r\nL 141.058125 129.51 \r\nL 101.998125 129.51 \r\nL 101.998125 88.74 \r\n\" style=\"fill:#f6b893;\"/>\r\n    <path clip-path=\"url(#p85fbac9c6b)\" d=\"M 141.058125 88.74 \r\nL 180.118125 88.74 \r\nL 180.118125 129.51 \r\nL 141.058125 129.51 \r\nL 141.058125 88.74 \r\n\" style=\"fill:#03051a;\"/>\r\n    <path clip-path=\"url(#p85fbac9c6b)\" d=\"M 180.118125 88.74 \r\nL 219.178125 88.74 \r\nL 219.178125 129.51 \r\nL 180.118125 129.51 \r\nL 180.118125 88.74 \r\n\" style=\"fill:#03051a;\"/>\r\n    <path clip-path=\"url(#p85fbac9c6b)\" d=\"M 219.178125 88.74 \r\nL 258.238125 88.74 \r\nL 258.238125 129.51 \r\nL 219.178125 129.51 \r\nL 219.178125 88.74 \r\n\" style=\"fill:#03051a;\"/>\r\n    <path clip-path=\"url(#p85fbac9c6b)\" d=\"M 258.238125 88.74 \r\nL 297.298125 88.74 \r\nL 297.298125 129.51 \r\nL 258.238125 129.51 \r\nL 258.238125 88.74 \r\n\" style=\"fill:#03051a;\"/>\r\n    <path clip-path=\"url(#p85fbac9c6b)\" d=\"M 297.298125 88.74 \r\nL 336.358125 88.74 \r\nL 336.358125 129.51 \r\nL 297.298125 129.51 \r\nL 297.298125 88.74 \r\n\" style=\"fill:#03051a;\"/>\r\n    <path clip-path=\"url(#p85fbac9c6b)\" d=\"M 23.878125 129.51 \r\nL 62.938125 129.51 \r\nL 62.938125 170.28 \r\nL 23.878125 170.28 \r\nL 23.878125 129.51 \r\n\" style=\"fill:#03051a;\"/>\r\n    <path clip-path=\"url(#p85fbac9c6b)\" d=\"M 62.938125 129.51 \r\nL 101.998125 129.51 \r\nL 101.998125 170.28 \r\nL 62.938125 170.28 \r\nL 62.938125 129.51 \r\n\" style=\"fill:#03051a;\"/>\r\n    <path clip-path=\"url(#p85fbac9c6b)\" d=\"M 101.998125 129.51 \r\nL 141.058125 129.51 \r\nL 141.058125 170.28 \r\nL 101.998125 170.28 \r\nL 101.998125 129.51 \r\n\" style=\"fill:#03051a;\"/>\r\n    <path clip-path=\"url(#p85fbac9c6b)\" d=\"M 141.058125 129.51 \r\nL 180.118125 129.51 \r\nL 180.118125 170.28 \r\nL 141.058125 170.28 \r\nL 141.058125 129.51 \r\n\" style=\"fill:#f7c2a2;\"/>\r\n    <path clip-path=\"url(#p85fbac9c6b)\" d=\"M 180.118125 129.51 \r\nL 219.178125 129.51 \r\nL 219.178125 170.28 \r\nL 180.118125 170.28 \r\nL 180.118125 129.51 \r\n\" style=\"fill:#03051a;\"/>\r\n    <path clip-path=\"url(#p85fbac9c6b)\" d=\"M 219.178125 129.51 \r\nL 258.238125 129.51 \r\nL 258.238125 170.28 \r\nL 219.178125 170.28 \r\nL 219.178125 129.51 \r\n\" style=\"fill:#03051a;\"/>\r\n    <path clip-path=\"url(#p85fbac9c6b)\" d=\"M 258.238125 129.51 \r\nL 297.298125 129.51 \r\nL 297.298125 170.28 \r\nL 258.238125 170.28 \r\nL 258.238125 129.51 \r\n\" style=\"fill:#03051a;\"/>\r\n    <path clip-path=\"url(#p85fbac9c6b)\" d=\"M 297.298125 129.51 \r\nL 336.358125 129.51 \r\nL 336.358125 170.28 \r\nL 297.298125 170.28 \r\nL 297.298125 129.51 \r\n\" style=\"fill:#03051a;\"/>\r\n    <path clip-path=\"url(#p85fbac9c6b)\" d=\"M 23.878125 170.28 \r\nL 62.938125 170.28 \r\nL 62.938125 211.05 \r\nL 23.878125 211.05 \r\nL 23.878125 170.28 \r\n\" style=\"fill:#03051a;\"/>\r\n    <path clip-path=\"url(#p85fbac9c6b)\" d=\"M 62.938125 170.28 \r\nL 101.998125 170.28 \r\nL 101.998125 211.05 \r\nL 62.938125 211.05 \r\nL 62.938125 170.28 \r\n\" style=\"fill:#03051a;\"/>\r\n    <path clip-path=\"url(#p85fbac9c6b)\" d=\"M 101.998125 170.28 \r\nL 141.058125 170.28 \r\nL 141.058125 211.05 \r\nL 101.998125 211.05 \r\nL 101.998125 170.28 \r\n\" style=\"fill:#03051a;\"/>\r\n    <path clip-path=\"url(#p85fbac9c6b)\" d=\"M 141.058125 170.28 \r\nL 180.118125 170.28 \r\nL 180.118125 211.05 \r\nL 141.058125 211.05 \r\nL 141.058125 170.28 \r\n\" style=\"fill:#03051a;\"/>\r\n    <path clip-path=\"url(#p85fbac9c6b)\" d=\"M 180.118125 170.28 \r\nL 219.178125 170.28 \r\nL 219.178125 211.05 \r\nL 180.118125 211.05 \r\nL 180.118125 170.28 \r\n\" style=\"fill:#f6b089;\"/>\r\n    <path clip-path=\"url(#p85fbac9c6b)\" d=\"M 219.178125 170.28 \r\nL 258.238125 170.28 \r\nL 258.238125 211.05 \r\nL 219.178125 211.05 \r\nL 219.178125 170.28 \r\n\" style=\"fill:#03051a;\"/>\r\n    <path clip-path=\"url(#p85fbac9c6b)\" d=\"M 258.238125 170.28 \r\nL 297.298125 170.28 \r\nL 297.298125 211.05 \r\nL 258.238125 211.05 \r\nL 258.238125 170.28 \r\n\" style=\"fill:#03051a;\"/>\r\n    <path clip-path=\"url(#p85fbac9c6b)\" d=\"M 297.298125 170.28 \r\nL 336.358125 170.28 \r\nL 336.358125 211.05 \r\nL 297.298125 211.05 \r\nL 297.298125 170.28 \r\n\" style=\"fill:#03051a;\"/>\r\n    <path clip-path=\"url(#p85fbac9c6b)\" d=\"M 23.878125 211.05 \r\nL 62.938125 211.05 \r\nL 62.938125 251.82 \r\nL 23.878125 251.82 \r\nL 23.878125 211.05 \r\n\" style=\"fill:#03051a;\"/>\r\n    <path clip-path=\"url(#p85fbac9c6b)\" d=\"M 62.938125 211.05 \r\nL 101.998125 211.05 \r\nL 101.998125 251.82 \r\nL 62.938125 251.82 \r\nL 62.938125 211.05 \r\n\" style=\"fill:#03051a;\"/>\r\n    <path clip-path=\"url(#p85fbac9c6b)\" d=\"M 101.998125 211.05 \r\nL 141.058125 211.05 \r\nL 141.058125 251.82 \r\nL 101.998125 251.82 \r\nL 101.998125 211.05 \r\n\" style=\"fill:#03051a;\"/>\r\n    <path clip-path=\"url(#p85fbac9c6b)\" d=\"M 141.058125 211.05 \r\nL 180.118125 211.05 \r\nL 180.118125 251.82 \r\nL 141.058125 251.82 \r\nL 141.058125 211.05 \r\n\" style=\"fill:#03051a;\"/>\r\n    <path clip-path=\"url(#p85fbac9c6b)\" d=\"M 180.118125 211.05 \r\nL 219.178125 211.05 \r\nL 219.178125 251.82 \r\nL 180.118125 251.82 \r\nL 180.118125 211.05 \r\n\" style=\"fill:#03051a;\"/>\r\n    <path clip-path=\"url(#p85fbac9c6b)\" d=\"M 219.178125 211.05 \r\nL 258.238125 211.05 \r\nL 258.238125 251.82 \r\nL 219.178125 251.82 \r\nL 219.178125 211.05 \r\n\" style=\"fill:#f69b71;\"/>\r\n    <path clip-path=\"url(#p85fbac9c6b)\" d=\"M 258.238125 211.05 \r\nL 297.298125 211.05 \r\nL 297.298125 251.82 \r\nL 258.238125 251.82 \r\nL 258.238125 211.05 \r\n\" style=\"fill:#03051a;\"/>\r\n    <path clip-path=\"url(#p85fbac9c6b)\" d=\"M 297.298125 211.05 \r\nL 336.358125 211.05 \r\nL 336.358125 251.82 \r\nL 297.298125 251.82 \r\nL 297.298125 211.05 \r\n\" style=\"fill:#03051a;\"/>\r\n    <path clip-path=\"url(#p85fbac9c6b)\" d=\"M 23.878125 251.82 \r\nL 62.938125 251.82 \r\nL 62.938125 292.59 \r\nL 23.878125 292.59 \r\nL 23.878125 251.82 \r\n\" style=\"fill:#03051a;\"/>\r\n    <path clip-path=\"url(#p85fbac9c6b)\" d=\"M 62.938125 251.82 \r\nL 101.998125 251.82 \r\nL 101.998125 292.59 \r\nL 62.938125 292.59 \r\nL 62.938125 251.82 \r\n\" style=\"fill:#03051a;\"/>\r\n    <path clip-path=\"url(#p85fbac9c6b)\" d=\"M 101.998125 251.82 \r\nL 141.058125 251.82 \r\nL 141.058125 292.59 \r\nL 101.998125 292.59 \r\nL 101.998125 251.82 \r\n\" style=\"fill:#03051a;\"/>\r\n    <path clip-path=\"url(#p85fbac9c6b)\" d=\"M 141.058125 251.82 \r\nL 180.118125 251.82 \r\nL 180.118125 292.59 \r\nL 141.058125 292.59 \r\nL 141.058125 251.82 \r\n\" style=\"fill:#03051a;\"/>\r\n    <path clip-path=\"url(#p85fbac9c6b)\" d=\"M 180.118125 251.82 \r\nL 219.178125 251.82 \r\nL 219.178125 292.59 \r\nL 180.118125 292.59 \r\nL 180.118125 251.82 \r\n\" style=\"fill:#03051a;\"/>\r\n    <path clip-path=\"url(#p85fbac9c6b)\" d=\"M 219.178125 251.82 \r\nL 258.238125 251.82 \r\nL 258.238125 292.59 \r\nL 219.178125 292.59 \r\nL 219.178125 251.82 \r\n\" style=\"fill:#03051a;\"/>\r\n    <path clip-path=\"url(#p85fbac9c6b)\" d=\"M 258.238125 251.82 \r\nL 297.298125 251.82 \r\nL 297.298125 292.59 \r\nL 258.238125 292.59 \r\nL 258.238125 251.82 \r\n\" style=\"fill:#f69b71;\"/>\r\n    <path clip-path=\"url(#p85fbac9c6b)\" d=\"M 297.298125 251.82 \r\nL 336.358125 251.82 \r\nL 336.358125 292.59 \r\nL 297.298125 292.59 \r\nL 297.298125 251.82 \r\n\" style=\"fill:#03051a;\"/>\r\n    <path clip-path=\"url(#p85fbac9c6b)\" d=\"M 23.878125 292.59 \r\nL 62.938125 292.59 \r\nL 62.938125 333.36 \r\nL 23.878125 333.36 \r\nL 23.878125 292.59 \r\n\" style=\"fill:#03051a;\"/>\r\n    <path clip-path=\"url(#p85fbac9c6b)\" d=\"M 62.938125 292.59 \r\nL 101.998125 292.59 \r\nL 101.998125 333.36 \r\nL 62.938125 333.36 \r\nL 62.938125 292.59 \r\n\" style=\"fill:#03051a;\"/>\r\n    <path clip-path=\"url(#p85fbac9c6b)\" d=\"M 101.998125 292.59 \r\nL 141.058125 292.59 \r\nL 141.058125 333.36 \r\nL 101.998125 333.36 \r\nL 101.998125 292.59 \r\n\" style=\"fill:#03051a;\"/>\r\n    <path clip-path=\"url(#p85fbac9c6b)\" d=\"M 141.058125 292.59 \r\nL 180.118125 292.59 \r\nL 180.118125 333.36 \r\nL 141.058125 333.36 \r\nL 141.058125 292.59 \r\n\" style=\"fill:#03051a;\"/>\r\n    <path clip-path=\"url(#p85fbac9c6b)\" d=\"M 180.118125 292.59 \r\nL 219.178125 292.59 \r\nL 219.178125 333.36 \r\nL 180.118125 333.36 \r\nL 180.118125 292.59 \r\n\" style=\"fill:#03051a;\"/>\r\n    <path clip-path=\"url(#p85fbac9c6b)\" d=\"M 219.178125 292.59 \r\nL 258.238125 292.59 \r\nL 258.238125 333.36 \r\nL 219.178125 333.36 \r\nL 219.178125 292.59 \r\n\" style=\"fill:#03051a;\"/>\r\n    <path clip-path=\"url(#p85fbac9c6b)\" d=\"M 258.238125 292.59 \r\nL 297.298125 292.59 \r\nL 297.298125 333.36 \r\nL 258.238125 333.36 \r\nL 258.238125 292.59 \r\n\" style=\"fill:#03051a;\"/>\r\n    <path clip-path=\"url(#p85fbac9c6b)\" d=\"M 297.298125 292.59 \r\nL 336.358125 292.59 \r\nL 336.358125 333.36 \r\nL 297.298125 333.36 \r\nL 297.298125 292.59 \r\n\" style=\"fill:#f6bb97;\"/>\r\n   </g>\r\n   <g id=\"matplotlib.axis_1\">\r\n    <g id=\"xtick_1\">\r\n     <g id=\"line2d_1\">\r\n      <defs>\r\n       <path d=\"M 0 0 \r\nL 0 3.5 \r\n\" id=\"m2e258e212a\" style=\"stroke:#000000;stroke-width:0.8;\"/>\r\n      </defs>\r\n      <g>\r\n       <use style=\"stroke:#000000;stroke-width:0.8;\" x=\"43.408125\" xlink:href=\"#m2e258e212a\" y=\"333.36\"/>\r\n      </g>\r\n     </g>\r\n     <g id=\"text_1\">\r\n      <!-- 0 -->\r\n      <g transform=\"translate(40.226875 347.958438)scale(0.1 -0.1)\">\r\n       <defs>\r\n        <path d=\"M 31.78125 66.40625 \r\nQ 24.171875 66.40625 20.328125 58.90625 \r\nQ 16.5 51.421875 16.5 36.375 \r\nQ 16.5 21.390625 20.328125 13.890625 \r\nQ 24.171875 6.390625 31.78125 6.390625 \r\nQ 39.453125 6.390625 43.28125 13.890625 \r\nQ 47.125 21.390625 47.125 36.375 \r\nQ 47.125 51.421875 43.28125 58.90625 \r\nQ 39.453125 66.40625 31.78125 66.40625 \r\nz\r\nM 31.78125 74.21875 \r\nQ 44.046875 74.21875 50.515625 64.515625 \r\nQ 56.984375 54.828125 56.984375 36.375 \r\nQ 56.984375 17.96875 50.515625 8.265625 \r\nQ 44.046875 -1.421875 31.78125 -1.421875 \r\nQ 19.53125 -1.421875 13.0625 8.265625 \r\nQ 6.59375 17.96875 6.59375 36.375 \r\nQ 6.59375 54.828125 13.0625 64.515625 \r\nQ 19.53125 74.21875 31.78125 74.21875 \r\nz\r\n\" id=\"DejaVuSans-48\"/>\r\n       </defs>\r\n       <use xlink:href=\"#DejaVuSans-48\"/>\r\n      </g>\r\n     </g>\r\n    </g>\r\n    <g id=\"xtick_2\">\r\n     <g id=\"line2d_2\">\r\n      <g>\r\n       <use style=\"stroke:#000000;stroke-width:0.8;\" x=\"82.468125\" xlink:href=\"#m2e258e212a\" y=\"333.36\"/>\r\n      </g>\r\n     </g>\r\n     <g id=\"text_2\">\r\n      <!-- 1 -->\r\n      <g transform=\"translate(79.286875 347.958438)scale(0.1 -0.1)\">\r\n       <defs>\r\n        <path d=\"M 12.40625 8.296875 \r\nL 28.515625 8.296875 \r\nL 28.515625 63.921875 \r\nL 10.984375 60.40625 \r\nL 10.984375 69.390625 \r\nL 28.421875 72.90625 \r\nL 38.28125 72.90625 \r\nL 38.28125 8.296875 \r\nL 54.390625 8.296875 \r\nL 54.390625 0 \r\nL 12.40625 0 \r\nz\r\n\" id=\"DejaVuSans-49\"/>\r\n       </defs>\r\n       <use xlink:href=\"#DejaVuSans-49\"/>\r\n      </g>\r\n     </g>\r\n    </g>\r\n    <g id=\"xtick_3\">\r\n     <g id=\"line2d_3\">\r\n      <g>\r\n       <use style=\"stroke:#000000;stroke-width:0.8;\" x=\"121.528125\" xlink:href=\"#m2e258e212a\" y=\"333.36\"/>\r\n      </g>\r\n     </g>\r\n     <g id=\"text_3\">\r\n      <!-- 2 -->\r\n      <g transform=\"translate(118.346875 347.958438)scale(0.1 -0.1)\">\r\n       <defs>\r\n        <path d=\"M 19.1875 8.296875 \r\nL 53.609375 8.296875 \r\nL 53.609375 0 \r\nL 7.328125 0 \r\nL 7.328125 8.296875 \r\nQ 12.9375 14.109375 22.625 23.890625 \r\nQ 32.328125 33.6875 34.8125 36.53125 \r\nQ 39.546875 41.84375 41.421875 45.53125 \r\nQ 43.3125 49.21875 43.3125 52.78125 \r\nQ 43.3125 58.59375 39.234375 62.25 \r\nQ 35.15625 65.921875 28.609375 65.921875 \r\nQ 23.96875 65.921875 18.8125 64.3125 \r\nQ 13.671875 62.703125 7.8125 59.421875 \r\nL 7.8125 69.390625 \r\nQ 13.765625 71.78125 18.9375 73 \r\nQ 24.125 74.21875 28.421875 74.21875 \r\nQ 39.75 74.21875 46.484375 68.546875 \r\nQ 53.21875 62.890625 53.21875 53.421875 \r\nQ 53.21875 48.921875 51.53125 44.890625 \r\nQ 49.859375 40.875 45.40625 35.40625 \r\nQ 44.1875 33.984375 37.640625 27.21875 \r\nQ 31.109375 20.453125 19.1875 8.296875 \r\nz\r\n\" id=\"DejaVuSans-50\"/>\r\n       </defs>\r\n       <use xlink:href=\"#DejaVuSans-50\"/>\r\n      </g>\r\n     </g>\r\n    </g>\r\n    <g id=\"xtick_4\">\r\n     <g id=\"line2d_4\">\r\n      <g>\r\n       <use style=\"stroke:#000000;stroke-width:0.8;\" x=\"160.588125\" xlink:href=\"#m2e258e212a\" y=\"333.36\"/>\r\n      </g>\r\n     </g>\r\n     <g id=\"text_4\">\r\n      <!-- 3 -->\r\n      <g transform=\"translate(157.406875 347.958438)scale(0.1 -0.1)\">\r\n       <defs>\r\n        <path d=\"M 40.578125 39.3125 \r\nQ 47.65625 37.796875 51.625 33 \r\nQ 55.609375 28.21875 55.609375 21.1875 \r\nQ 55.609375 10.40625 48.1875 4.484375 \r\nQ 40.765625 -1.421875 27.09375 -1.421875 \r\nQ 22.515625 -1.421875 17.65625 -0.515625 \r\nQ 12.796875 0.390625 7.625 2.203125 \r\nL 7.625 11.71875 \r\nQ 11.71875 9.328125 16.59375 8.109375 \r\nQ 21.484375 6.890625 26.8125 6.890625 \r\nQ 36.078125 6.890625 40.9375 10.546875 \r\nQ 45.796875 14.203125 45.796875 21.1875 \r\nQ 45.796875 27.640625 41.28125 31.265625 \r\nQ 36.765625 34.90625 28.71875 34.90625 \r\nL 20.21875 34.90625 \r\nL 20.21875 43.015625 \r\nL 29.109375 43.015625 \r\nQ 36.375 43.015625 40.234375 45.921875 \r\nQ 44.09375 48.828125 44.09375 54.296875 \r\nQ 44.09375 59.90625 40.109375 62.90625 \r\nQ 36.140625 65.921875 28.71875 65.921875 \r\nQ 24.65625 65.921875 20.015625 65.03125 \r\nQ 15.375 64.15625 9.8125 62.3125 \r\nL 9.8125 71.09375 \r\nQ 15.4375 72.65625 20.34375 73.4375 \r\nQ 25.25 74.21875 29.59375 74.21875 \r\nQ 40.828125 74.21875 47.359375 69.109375 \r\nQ 53.90625 64.015625 53.90625 55.328125 \r\nQ 53.90625 49.265625 50.4375 45.09375 \r\nQ 46.96875 40.921875 40.578125 39.3125 \r\nz\r\n\" id=\"DejaVuSans-51\"/>\r\n       </defs>\r\n       <use xlink:href=\"#DejaVuSans-51\"/>\r\n      </g>\r\n     </g>\r\n    </g>\r\n    <g id=\"xtick_5\">\r\n     <g id=\"line2d_5\">\r\n      <g>\r\n       <use style=\"stroke:#000000;stroke-width:0.8;\" x=\"199.648125\" xlink:href=\"#m2e258e212a\" y=\"333.36\"/>\r\n      </g>\r\n     </g>\r\n     <g id=\"text_5\">\r\n      <!-- 4 -->\r\n      <g transform=\"translate(196.466875 347.958438)scale(0.1 -0.1)\">\r\n       <defs>\r\n        <path d=\"M 37.796875 64.3125 \r\nL 12.890625 25.390625 \r\nL 37.796875 25.390625 \r\nz\r\nM 35.203125 72.90625 \r\nL 47.609375 72.90625 \r\nL 47.609375 25.390625 \r\nL 58.015625 25.390625 \r\nL 58.015625 17.1875 \r\nL 47.609375 17.1875 \r\nL 47.609375 0 \r\nL 37.796875 0 \r\nL 37.796875 17.1875 \r\nL 4.890625 17.1875 \r\nL 4.890625 26.703125 \r\nz\r\n\" id=\"DejaVuSans-52\"/>\r\n       </defs>\r\n       <use xlink:href=\"#DejaVuSans-52\"/>\r\n      </g>\r\n     </g>\r\n    </g>\r\n    <g id=\"xtick_6\">\r\n     <g id=\"line2d_6\">\r\n      <g>\r\n       <use style=\"stroke:#000000;stroke-width:0.8;\" x=\"238.708125\" xlink:href=\"#m2e258e212a\" y=\"333.36\"/>\r\n      </g>\r\n     </g>\r\n     <g id=\"text_6\">\r\n      <!-- 5 -->\r\n      <g transform=\"translate(235.526875 347.958438)scale(0.1 -0.1)\">\r\n       <defs>\r\n        <path d=\"M 10.796875 72.90625 \r\nL 49.515625 72.90625 \r\nL 49.515625 64.59375 \r\nL 19.828125 64.59375 \r\nL 19.828125 46.734375 \r\nQ 21.96875 47.46875 24.109375 47.828125 \r\nQ 26.265625 48.1875 28.421875 48.1875 \r\nQ 40.625 48.1875 47.75 41.5 \r\nQ 54.890625 34.8125 54.890625 23.390625 \r\nQ 54.890625 11.625 47.5625 5.09375 \r\nQ 40.234375 -1.421875 26.90625 -1.421875 \r\nQ 22.3125 -1.421875 17.546875 -0.640625 \r\nQ 12.796875 0.140625 7.71875 1.703125 \r\nL 7.71875 11.625 \r\nQ 12.109375 9.234375 16.796875 8.0625 \r\nQ 21.484375 6.890625 26.703125 6.890625 \r\nQ 35.15625 6.890625 40.078125 11.328125 \r\nQ 45.015625 15.765625 45.015625 23.390625 \r\nQ 45.015625 31 40.078125 35.4375 \r\nQ 35.15625 39.890625 26.703125 39.890625 \r\nQ 22.75 39.890625 18.8125 39.015625 \r\nQ 14.890625 38.140625 10.796875 36.28125 \r\nz\r\n\" id=\"DejaVuSans-53\"/>\r\n       </defs>\r\n       <use xlink:href=\"#DejaVuSans-53\"/>\r\n      </g>\r\n     </g>\r\n    </g>\r\n    <g id=\"xtick_7\">\r\n     <g id=\"line2d_7\">\r\n      <g>\r\n       <use style=\"stroke:#000000;stroke-width:0.8;\" x=\"277.768125\" xlink:href=\"#m2e258e212a\" y=\"333.36\"/>\r\n      </g>\r\n     </g>\r\n     <g id=\"text_7\">\r\n      <!-- 6 -->\r\n      <g transform=\"translate(274.586875 347.958438)scale(0.1 -0.1)\">\r\n       <defs>\r\n        <path d=\"M 33.015625 40.375 \r\nQ 26.375 40.375 22.484375 35.828125 \r\nQ 18.609375 31.296875 18.609375 23.390625 \r\nQ 18.609375 15.53125 22.484375 10.953125 \r\nQ 26.375 6.390625 33.015625 6.390625 \r\nQ 39.65625 6.390625 43.53125 10.953125 \r\nQ 47.40625 15.53125 47.40625 23.390625 \r\nQ 47.40625 31.296875 43.53125 35.828125 \r\nQ 39.65625 40.375 33.015625 40.375 \r\nz\r\nM 52.59375 71.296875 \r\nL 52.59375 62.3125 \r\nQ 48.875 64.0625 45.09375 64.984375 \r\nQ 41.3125 65.921875 37.59375 65.921875 \r\nQ 27.828125 65.921875 22.671875 59.328125 \r\nQ 17.53125 52.734375 16.796875 39.40625 \r\nQ 19.671875 43.65625 24.015625 45.921875 \r\nQ 28.375 48.1875 33.59375 48.1875 \r\nQ 44.578125 48.1875 50.953125 41.515625 \r\nQ 57.328125 34.859375 57.328125 23.390625 \r\nQ 57.328125 12.15625 50.6875 5.359375 \r\nQ 44.046875 -1.421875 33.015625 -1.421875 \r\nQ 20.359375 -1.421875 13.671875 8.265625 \r\nQ 6.984375 17.96875 6.984375 36.375 \r\nQ 6.984375 53.65625 15.1875 63.9375 \r\nQ 23.390625 74.21875 37.203125 74.21875 \r\nQ 40.921875 74.21875 44.703125 73.484375 \r\nQ 48.484375 72.75 52.59375 71.296875 \r\nz\r\n\" id=\"DejaVuSans-54\"/>\r\n       </defs>\r\n       <use xlink:href=\"#DejaVuSans-54\"/>\r\n      </g>\r\n     </g>\r\n    </g>\r\n    <g id=\"xtick_8\">\r\n     <g id=\"line2d_8\">\r\n      <g>\r\n       <use style=\"stroke:#000000;stroke-width:0.8;\" x=\"316.828125\" xlink:href=\"#m2e258e212a\" y=\"333.36\"/>\r\n      </g>\r\n     </g>\r\n     <g id=\"text_8\">\r\n      <!-- 7 -->\r\n      <g transform=\"translate(313.646875 347.958438)scale(0.1 -0.1)\">\r\n       <defs>\r\n        <path d=\"M 8.203125 72.90625 \r\nL 55.078125 72.90625 \r\nL 55.078125 68.703125 \r\nL 28.609375 0 \r\nL 18.3125 0 \r\nL 43.21875 64.59375 \r\nL 8.203125 64.59375 \r\nz\r\n\" id=\"DejaVuSans-55\"/>\r\n       </defs>\r\n       <use xlink:href=\"#DejaVuSans-55\"/>\r\n      </g>\r\n     </g>\r\n    </g>\r\n   </g>\r\n   <g id=\"matplotlib.axis_2\">\r\n    <g id=\"ytick_1\">\r\n     <g id=\"line2d_9\">\r\n      <defs>\r\n       <path d=\"M 0 0 \r\nL -3.5 0 \r\n\" id=\"mda06e44d4c\" style=\"stroke:#000000;stroke-width:0.8;\"/>\r\n      </defs>\r\n      <g>\r\n       <use style=\"stroke:#000000;stroke-width:0.8;\" x=\"23.878125\" xlink:href=\"#mda06e44d4c\" y=\"27.585\"/>\r\n      </g>\r\n     </g>\r\n     <g id=\"text_9\">\r\n      <!-- 0 -->\r\n      <g transform=\"translate(14.798438 30.148281)rotate(-90)scale(0.1 -0.1)\">\r\n       <use xlink:href=\"#DejaVuSans-48\"/>\r\n      </g>\r\n     </g>\r\n    </g>\r\n    <g id=\"ytick_2\">\r\n     <g id=\"line2d_10\">\r\n      <g>\r\n       <use style=\"stroke:#000000;stroke-width:0.8;\" x=\"23.878125\" xlink:href=\"#mda06e44d4c\" y=\"68.355\"/>\r\n      </g>\r\n     </g>\r\n     <g id=\"text_10\">\r\n      <!-- 1 -->\r\n      <g transform=\"translate(14.798438 70.918281)rotate(-90)scale(0.1 -0.1)\">\r\n       <use xlink:href=\"#DejaVuSans-49\"/>\r\n      </g>\r\n     </g>\r\n    </g>\r\n    <g id=\"ytick_3\">\r\n     <g id=\"line2d_11\">\r\n      <g>\r\n       <use style=\"stroke:#000000;stroke-width:0.8;\" x=\"23.878125\" xlink:href=\"#mda06e44d4c\" y=\"109.125\"/>\r\n      </g>\r\n     </g>\r\n     <g id=\"text_11\">\r\n      <!-- 2 -->\r\n      <g transform=\"translate(14.798438 111.688281)rotate(-90)scale(0.1 -0.1)\">\r\n       <use xlink:href=\"#DejaVuSans-50\"/>\r\n      </g>\r\n     </g>\r\n    </g>\r\n    <g id=\"ytick_4\">\r\n     <g id=\"line2d_12\">\r\n      <g>\r\n       <use style=\"stroke:#000000;stroke-width:0.8;\" x=\"23.878125\" xlink:href=\"#mda06e44d4c\" y=\"149.895\"/>\r\n      </g>\r\n     </g>\r\n     <g id=\"text_12\">\r\n      <!-- 3 -->\r\n      <g transform=\"translate(14.798438 152.458281)rotate(-90)scale(0.1 -0.1)\">\r\n       <use xlink:href=\"#DejaVuSans-51\"/>\r\n      </g>\r\n     </g>\r\n    </g>\r\n    <g id=\"ytick_5\">\r\n     <g id=\"line2d_13\">\r\n      <g>\r\n       <use style=\"stroke:#000000;stroke-width:0.8;\" x=\"23.878125\" xlink:href=\"#mda06e44d4c\" y=\"190.665\"/>\r\n      </g>\r\n     </g>\r\n     <g id=\"text_13\">\r\n      <!-- 4 -->\r\n      <g transform=\"translate(14.798438 193.228281)rotate(-90)scale(0.1 -0.1)\">\r\n       <use xlink:href=\"#DejaVuSans-52\"/>\r\n      </g>\r\n     </g>\r\n    </g>\r\n    <g id=\"ytick_6\">\r\n     <g id=\"line2d_14\">\r\n      <g>\r\n       <use style=\"stroke:#000000;stroke-width:0.8;\" x=\"23.878125\" xlink:href=\"#mda06e44d4c\" y=\"231.435\"/>\r\n      </g>\r\n     </g>\r\n     <g id=\"text_14\">\r\n      <!-- 5 -->\r\n      <g transform=\"translate(14.798438 233.998281)rotate(-90)scale(0.1 -0.1)\">\r\n       <use xlink:href=\"#DejaVuSans-53\"/>\r\n      </g>\r\n     </g>\r\n    </g>\r\n    <g id=\"ytick_7\">\r\n     <g id=\"line2d_15\">\r\n      <g>\r\n       <use style=\"stroke:#000000;stroke-width:0.8;\" x=\"23.878125\" xlink:href=\"#mda06e44d4c\" y=\"272.205\"/>\r\n      </g>\r\n     </g>\r\n     <g id=\"text_15\">\r\n      <!-- 6 -->\r\n      <g transform=\"translate(14.798438 274.768281)rotate(-90)scale(0.1 -0.1)\">\r\n       <use xlink:href=\"#DejaVuSans-54\"/>\r\n      </g>\r\n     </g>\r\n    </g>\r\n    <g id=\"ytick_8\">\r\n     <g id=\"line2d_16\">\r\n      <g>\r\n       <use style=\"stroke:#000000;stroke-width:0.8;\" x=\"23.878125\" xlink:href=\"#mda06e44d4c\" y=\"312.975\"/>\r\n      </g>\r\n     </g>\r\n     <g id=\"text_16\">\r\n      <!-- 7 -->\r\n      <g transform=\"translate(14.798438 315.538281)rotate(-90)scale(0.1 -0.1)\">\r\n       <use xlink:href=\"#DejaVuSans-55\"/>\r\n      </g>\r\n     </g>\r\n    </g>\r\n   </g>\r\n   <g id=\"text_17\">\r\n    <!-- 98 -->\r\n    <g style=\"fill:#262626;\" transform=\"translate(37.045625 30.344375)scale(0.1 -0.1)\">\r\n     <defs>\r\n      <path d=\"M 10.984375 1.515625 \r\nL 10.984375 10.5 \r\nQ 14.703125 8.734375 18.5 7.8125 \r\nQ 22.3125 6.890625 25.984375 6.890625 \r\nQ 35.75 6.890625 40.890625 13.453125 \r\nQ 46.046875 20.015625 46.78125 33.40625 \r\nQ 43.953125 29.203125 39.59375 26.953125 \r\nQ 35.25 24.703125 29.984375 24.703125 \r\nQ 19.046875 24.703125 12.671875 31.3125 \r\nQ 6.296875 37.9375 6.296875 49.421875 \r\nQ 6.296875 60.640625 12.9375 67.421875 \r\nQ 19.578125 74.21875 30.609375 74.21875 \r\nQ 43.265625 74.21875 49.921875 64.515625 \r\nQ 56.59375 54.828125 56.59375 36.375 \r\nQ 56.59375 19.140625 48.40625 8.859375 \r\nQ 40.234375 -1.421875 26.421875 -1.421875 \r\nQ 22.703125 -1.421875 18.890625 -0.6875 \r\nQ 15.09375 0.046875 10.984375 1.515625 \r\nz\r\nM 30.609375 32.421875 \r\nQ 37.25 32.421875 41.125 36.953125 \r\nQ 45.015625 41.5 45.015625 49.421875 \r\nQ 45.015625 57.28125 41.125 61.84375 \r\nQ 37.25 66.40625 30.609375 66.40625 \r\nQ 23.96875 66.40625 20.09375 61.84375 \r\nQ 16.21875 57.28125 16.21875 49.421875 \r\nQ 16.21875 41.5 20.09375 36.953125 \r\nQ 23.96875 32.421875 30.609375 32.421875 \r\nz\r\n\" id=\"DejaVuSans-57\"/>\r\n      <path d=\"M 31.78125 34.625 \r\nQ 24.75 34.625 20.71875 30.859375 \r\nQ 16.703125 27.09375 16.703125 20.515625 \r\nQ 16.703125 13.921875 20.71875 10.15625 \r\nQ 24.75 6.390625 31.78125 6.390625 \r\nQ 38.8125 6.390625 42.859375 10.171875 \r\nQ 46.921875 13.96875 46.921875 20.515625 \r\nQ 46.921875 27.09375 42.890625 30.859375 \r\nQ 38.875 34.625 31.78125 34.625 \r\nz\r\nM 21.921875 38.8125 \r\nQ 15.578125 40.375 12.03125 44.71875 \r\nQ 8.5 49.078125 8.5 55.328125 \r\nQ 8.5 64.0625 14.71875 69.140625 \r\nQ 20.953125 74.21875 31.78125 74.21875 \r\nQ 42.671875 74.21875 48.875 69.140625 \r\nQ 55.078125 64.0625 55.078125 55.328125 \r\nQ 55.078125 49.078125 51.53125 44.71875 \r\nQ 48 40.375 41.703125 38.8125 \r\nQ 48.828125 37.15625 52.796875 32.3125 \r\nQ 56.78125 27.484375 56.78125 20.515625 \r\nQ 56.78125 9.90625 50.3125 4.234375 \r\nQ 43.84375 -1.421875 31.78125 -1.421875 \r\nQ 19.734375 -1.421875 13.25 4.234375 \r\nQ 6.78125 9.90625 6.78125 20.515625 \r\nQ 6.78125 27.484375 10.78125 32.3125 \r\nQ 14.796875 37.15625 21.921875 38.8125 \r\nz\r\nM 18.3125 54.390625 \r\nQ 18.3125 48.734375 21.84375 45.5625 \r\nQ 25.390625 42.390625 31.78125 42.390625 \r\nQ 38.140625 42.390625 41.71875 45.5625 \r\nQ 45.3125 48.734375 45.3125 54.390625 \r\nQ 45.3125 60.0625 41.71875 63.234375 \r\nQ 38.140625 66.40625 31.78125 66.40625 \r\nQ 25.390625 66.40625 21.84375 63.234375 \r\nQ 18.3125 60.0625 18.3125 54.390625 \r\nz\r\n\" id=\"DejaVuSans-56\"/>\r\n     </defs>\r\n     <use xlink:href=\"#DejaVuSans-57\"/>\r\n     <use x=\"63.623047\" xlink:href=\"#DejaVuSans-56\"/>\r\n    </g>\r\n   </g>\r\n   <g id=\"text_18\">\r\n    <!-- 0 -->\r\n    <g style=\"fill:#ffffff;\" transform=\"translate(79.286875 30.344375)scale(0.1 -0.1)\">\r\n     <use xlink:href=\"#DejaVuSans-48\"/>\r\n    </g>\r\n   </g>\r\n   <g id=\"text_19\">\r\n    <!-- 0 -->\r\n    <g style=\"fill:#ffffff;\" transform=\"translate(118.346875 30.344375)scale(0.1 -0.1)\">\r\n     <use xlink:href=\"#DejaVuSans-48\"/>\r\n    </g>\r\n   </g>\r\n   <g id=\"text_20\">\r\n    <!-- 0 -->\r\n    <g style=\"fill:#ffffff;\" transform=\"translate(157.406875 30.344375)scale(0.1 -0.1)\">\r\n     <use xlink:href=\"#DejaVuSans-48\"/>\r\n    </g>\r\n   </g>\r\n   <g id=\"text_21\">\r\n    <!-- 0 -->\r\n    <g style=\"fill:#ffffff;\" transform=\"translate(196.466875 30.344375)scale(0.1 -0.1)\">\r\n     <use xlink:href=\"#DejaVuSans-48\"/>\r\n    </g>\r\n   </g>\r\n   <g id=\"text_22\">\r\n    <!-- 0 -->\r\n    <g style=\"fill:#ffffff;\" transform=\"translate(235.526875 30.344375)scale(0.1 -0.1)\">\r\n     <use xlink:href=\"#DejaVuSans-48\"/>\r\n    </g>\r\n   </g>\r\n   <g id=\"text_23\">\r\n    <!-- 0 -->\r\n    <g style=\"fill:#ffffff;\" transform=\"translate(274.586875 30.344375)scale(0.1 -0.1)\">\r\n     <use xlink:href=\"#DejaVuSans-48\"/>\r\n    </g>\r\n   </g>\r\n   <g id=\"text_24\">\r\n    <!-- 0 -->\r\n    <g style=\"fill:#ffffff;\" transform=\"translate(313.646875 30.344375)scale(0.1 -0.1)\">\r\n     <use xlink:href=\"#DejaVuSans-48\"/>\r\n    </g>\r\n   </g>\r\n   <g id=\"text_25\">\r\n    <!-- 0 -->\r\n    <g style=\"fill:#ffffff;\" transform=\"translate(40.226875 71.114375)scale(0.1 -0.1)\">\r\n     <use xlink:href=\"#DejaVuSans-48\"/>\r\n    </g>\r\n   </g>\r\n   <g id=\"text_26\">\r\n    <!-- 103 -->\r\n    <g style=\"fill:#262626;\" transform=\"translate(72.924375 71.114375)scale(0.1 -0.1)\">\r\n     <use xlink:href=\"#DejaVuSans-49\"/>\r\n     <use x=\"63.623047\" xlink:href=\"#DejaVuSans-48\"/>\r\n     <use x=\"127.246094\" xlink:href=\"#DejaVuSans-51\"/>\r\n    </g>\r\n   </g>\r\n   <g id=\"text_27\">\r\n    <!-- 0 -->\r\n    <g style=\"fill:#ffffff;\" transform=\"translate(118.346875 71.114375)scale(0.1 -0.1)\">\r\n     <use xlink:href=\"#DejaVuSans-48\"/>\r\n    </g>\r\n   </g>\r\n   <g id=\"text_28\">\r\n    <!-- 0 -->\r\n    <g style=\"fill:#ffffff;\" transform=\"translate(157.406875 71.114375)scale(0.1 -0.1)\">\r\n     <use xlink:href=\"#DejaVuSans-48\"/>\r\n    </g>\r\n   </g>\r\n   <g id=\"text_29\">\r\n    <!-- 0 -->\r\n    <g style=\"fill:#ffffff;\" transform=\"translate(196.466875 71.114375)scale(0.1 -0.1)\">\r\n     <use xlink:href=\"#DejaVuSans-48\"/>\r\n    </g>\r\n   </g>\r\n   <g id=\"text_30\">\r\n    <!-- 0 -->\r\n    <g style=\"fill:#ffffff;\" transform=\"translate(235.526875 71.114375)scale(0.1 -0.1)\">\r\n     <use xlink:href=\"#DejaVuSans-48\"/>\r\n    </g>\r\n   </g>\r\n   <g id=\"text_31\">\r\n    <!-- 0 -->\r\n    <g style=\"fill:#ffffff;\" transform=\"translate(274.586875 71.114375)scale(0.1 -0.1)\">\r\n     <use xlink:href=\"#DejaVuSans-48\"/>\r\n    </g>\r\n   </g>\r\n   <g id=\"text_32\">\r\n    <!-- 0 -->\r\n    <g style=\"fill:#ffffff;\" transform=\"translate(313.646875 71.114375)scale(0.1 -0.1)\">\r\n     <use xlink:href=\"#DejaVuSans-48\"/>\r\n    </g>\r\n   </g>\r\n   <g id=\"text_33\">\r\n    <!-- 0 -->\r\n    <g style=\"fill:#ffffff;\" transform=\"translate(40.226875 111.884375)scale(0.1 -0.1)\">\r\n     <use xlink:href=\"#DejaVuSans-48\"/>\r\n    </g>\r\n   </g>\r\n   <g id=\"text_34\">\r\n    <!-- 0 -->\r\n    <g style=\"fill:#ffffff;\" transform=\"translate(79.286875 111.884375)scale(0.1 -0.1)\">\r\n     <use xlink:href=\"#DejaVuSans-48\"/>\r\n    </g>\r\n   </g>\r\n   <g id=\"text_35\">\r\n    <!-- 89 -->\r\n    <g style=\"fill:#262626;\" transform=\"translate(115.165625 111.884375)scale(0.1 -0.1)\">\r\n     <use xlink:href=\"#DejaVuSans-56\"/>\r\n     <use x=\"63.623047\" xlink:href=\"#DejaVuSans-57\"/>\r\n    </g>\r\n   </g>\r\n   <g id=\"text_36\">\r\n    <!-- 0 -->\r\n    <g style=\"fill:#ffffff;\" transform=\"translate(157.406875 111.884375)scale(0.1 -0.1)\">\r\n     <use xlink:href=\"#DejaVuSans-48\"/>\r\n    </g>\r\n   </g>\r\n   <g id=\"text_37\">\r\n    <!-- 0 -->\r\n    <g style=\"fill:#ffffff;\" transform=\"translate(196.466875 111.884375)scale(0.1 -0.1)\">\r\n     <use xlink:href=\"#DejaVuSans-48\"/>\r\n    </g>\r\n   </g>\r\n   <g id=\"text_38\">\r\n    <!-- 0 -->\r\n    <g style=\"fill:#ffffff;\" transform=\"translate(235.526875 111.884375)scale(0.1 -0.1)\">\r\n     <use xlink:href=\"#DejaVuSans-48\"/>\r\n    </g>\r\n   </g>\r\n   <g id=\"text_39\">\r\n    <!-- 0 -->\r\n    <g style=\"fill:#ffffff;\" transform=\"translate(274.586875 111.884375)scale(0.1 -0.1)\">\r\n     <use xlink:href=\"#DejaVuSans-48\"/>\r\n    </g>\r\n   </g>\r\n   <g id=\"text_40\">\r\n    <!-- 0 -->\r\n    <g style=\"fill:#ffffff;\" transform=\"translate(313.646875 111.884375)scale(0.1 -0.1)\">\r\n     <use xlink:href=\"#DejaVuSans-48\"/>\r\n    </g>\r\n   </g>\r\n   <g id=\"text_41\">\r\n    <!-- 0 -->\r\n    <g style=\"fill:#ffffff;\" transform=\"translate(40.226875 152.654375)scale(0.1 -0.1)\">\r\n     <use xlink:href=\"#DejaVuSans-48\"/>\r\n    </g>\r\n   </g>\r\n   <g id=\"text_42\">\r\n    <!-- 0 -->\r\n    <g style=\"fill:#ffffff;\" transform=\"translate(79.286875 152.654375)scale(0.1 -0.1)\">\r\n     <use xlink:href=\"#DejaVuSans-48\"/>\r\n    </g>\r\n   </g>\r\n   <g id=\"text_43\">\r\n    <!-- 0 -->\r\n    <g style=\"fill:#ffffff;\" transform=\"translate(118.346875 152.654375)scale(0.1 -0.1)\">\r\n     <use xlink:href=\"#DejaVuSans-48\"/>\r\n    </g>\r\n   </g>\r\n   <g id=\"text_44\">\r\n    <!-- 92 -->\r\n    <g style=\"fill:#262626;\" transform=\"translate(154.225625 152.654375)scale(0.1 -0.1)\">\r\n     <use xlink:href=\"#DejaVuSans-57\"/>\r\n     <use x=\"63.623047\" xlink:href=\"#DejaVuSans-50\"/>\r\n    </g>\r\n   </g>\r\n   <g id=\"text_45\">\r\n    <!-- 0 -->\r\n    <g style=\"fill:#ffffff;\" transform=\"translate(196.466875 152.654375)scale(0.1 -0.1)\">\r\n     <use xlink:href=\"#DejaVuSans-48\"/>\r\n    </g>\r\n   </g>\r\n   <g id=\"text_46\">\r\n    <!-- 0 -->\r\n    <g style=\"fill:#ffffff;\" transform=\"translate(235.526875 152.654375)scale(0.1 -0.1)\">\r\n     <use xlink:href=\"#DejaVuSans-48\"/>\r\n    </g>\r\n   </g>\r\n   <g id=\"text_47\">\r\n    <!-- 0 -->\r\n    <g style=\"fill:#ffffff;\" transform=\"translate(274.586875 152.654375)scale(0.1 -0.1)\">\r\n     <use xlink:href=\"#DejaVuSans-48\"/>\r\n    </g>\r\n   </g>\r\n   <g id=\"text_48\">\r\n    <!-- 0 -->\r\n    <g style=\"fill:#ffffff;\" transform=\"translate(313.646875 152.654375)scale(0.1 -0.1)\">\r\n     <use xlink:href=\"#DejaVuSans-48\"/>\r\n    </g>\r\n   </g>\r\n   <g id=\"text_49\">\r\n    <!-- 0 -->\r\n    <g style=\"fill:#ffffff;\" transform=\"translate(40.226875 193.424375)scale(0.1 -0.1)\">\r\n     <use xlink:href=\"#DejaVuSans-48\"/>\r\n    </g>\r\n   </g>\r\n   <g id=\"text_50\">\r\n    <!-- 0 -->\r\n    <g style=\"fill:#ffffff;\" transform=\"translate(79.286875 193.424375)scale(0.1 -0.1)\">\r\n     <use xlink:href=\"#DejaVuSans-48\"/>\r\n    </g>\r\n   </g>\r\n   <g id=\"text_51\">\r\n    <!-- 0 -->\r\n    <g style=\"fill:#ffffff;\" transform=\"translate(118.346875 193.424375)scale(0.1 -0.1)\">\r\n     <use xlink:href=\"#DejaVuSans-48\"/>\r\n    </g>\r\n   </g>\r\n   <g id=\"text_52\">\r\n    <!-- 0 -->\r\n    <g style=\"fill:#ffffff;\" transform=\"translate(157.406875 193.424375)scale(0.1 -0.1)\">\r\n     <use xlink:href=\"#DejaVuSans-48\"/>\r\n    </g>\r\n   </g>\r\n   <g id=\"text_53\">\r\n    <!-- 87 -->\r\n    <g style=\"fill:#262626;\" transform=\"translate(193.285625 193.424375)scale(0.1 -0.1)\">\r\n     <use xlink:href=\"#DejaVuSans-56\"/>\r\n     <use x=\"63.623047\" xlink:href=\"#DejaVuSans-55\"/>\r\n    </g>\r\n   </g>\r\n   <g id=\"text_54\">\r\n    <!-- 0 -->\r\n    <g style=\"fill:#ffffff;\" transform=\"translate(235.526875 193.424375)scale(0.1 -0.1)\">\r\n     <use xlink:href=\"#DejaVuSans-48\"/>\r\n    </g>\r\n   </g>\r\n   <g id=\"text_55\">\r\n    <!-- 0 -->\r\n    <g style=\"fill:#ffffff;\" transform=\"translate(274.586875 193.424375)scale(0.1 -0.1)\">\r\n     <use xlink:href=\"#DejaVuSans-48\"/>\r\n    </g>\r\n   </g>\r\n   <g id=\"text_56\">\r\n    <!-- 0 -->\r\n    <g style=\"fill:#ffffff;\" transform=\"translate(313.646875 193.424375)scale(0.1 -0.1)\">\r\n     <use xlink:href=\"#DejaVuSans-48\"/>\r\n    </g>\r\n   </g>\r\n   <g id=\"text_57\">\r\n    <!-- 0 -->\r\n    <g style=\"fill:#ffffff;\" transform=\"translate(40.226875 234.194375)scale(0.1 -0.1)\">\r\n     <use xlink:href=\"#DejaVuSans-48\"/>\r\n    </g>\r\n   </g>\r\n   <g id=\"text_58\">\r\n    <!-- 0 -->\r\n    <g style=\"fill:#ffffff;\" transform=\"translate(79.286875 234.194375)scale(0.1 -0.1)\">\r\n     <use xlink:href=\"#DejaVuSans-48\"/>\r\n    </g>\r\n   </g>\r\n   <g id=\"text_59\">\r\n    <!-- 0 -->\r\n    <g style=\"fill:#ffffff;\" transform=\"translate(118.346875 234.194375)scale(0.1 -0.1)\">\r\n     <use xlink:href=\"#DejaVuSans-48\"/>\r\n    </g>\r\n   </g>\r\n   <g id=\"text_60\">\r\n    <!-- 0 -->\r\n    <g style=\"fill:#ffffff;\" transform=\"translate(157.406875 234.194375)scale(0.1 -0.1)\">\r\n     <use xlink:href=\"#DejaVuSans-48\"/>\r\n    </g>\r\n   </g>\r\n   <g id=\"text_61\">\r\n    <!-- 0 -->\r\n    <g style=\"fill:#ffffff;\" transform=\"translate(196.466875 234.194375)scale(0.1 -0.1)\">\r\n     <use xlink:href=\"#DejaVuSans-48\"/>\r\n    </g>\r\n   </g>\r\n   <g id=\"text_62\">\r\n    <!-- 82 -->\r\n    <g style=\"fill:#262626;\" transform=\"translate(232.345625 234.194375)scale(0.1 -0.1)\">\r\n     <use xlink:href=\"#DejaVuSans-56\"/>\r\n     <use x=\"63.623047\" xlink:href=\"#DejaVuSans-50\"/>\r\n    </g>\r\n   </g>\r\n   <g id=\"text_63\">\r\n    <!-- 0 -->\r\n    <g style=\"fill:#ffffff;\" transform=\"translate(274.586875 234.194375)scale(0.1 -0.1)\">\r\n     <use xlink:href=\"#DejaVuSans-48\"/>\r\n    </g>\r\n   </g>\r\n   <g id=\"text_64\">\r\n    <!-- 0 -->\r\n    <g style=\"fill:#ffffff;\" transform=\"translate(313.646875 234.194375)scale(0.1 -0.1)\">\r\n     <use xlink:href=\"#DejaVuSans-48\"/>\r\n    </g>\r\n   </g>\r\n   <g id=\"text_65\">\r\n    <!-- 0 -->\r\n    <g style=\"fill:#ffffff;\" transform=\"translate(40.226875 274.964375)scale(0.1 -0.1)\">\r\n     <use xlink:href=\"#DejaVuSans-48\"/>\r\n    </g>\r\n   </g>\r\n   <g id=\"text_66\">\r\n    <!-- 0 -->\r\n    <g style=\"fill:#ffffff;\" transform=\"translate(79.286875 274.964375)scale(0.1 -0.1)\">\r\n     <use xlink:href=\"#DejaVuSans-48\"/>\r\n    </g>\r\n   </g>\r\n   <g id=\"text_67\">\r\n    <!-- 0 -->\r\n    <g style=\"fill:#ffffff;\" transform=\"translate(118.346875 274.964375)scale(0.1 -0.1)\">\r\n     <use xlink:href=\"#DejaVuSans-48\"/>\r\n    </g>\r\n   </g>\r\n   <g id=\"text_68\">\r\n    <!-- 0 -->\r\n    <g style=\"fill:#ffffff;\" transform=\"translate(157.406875 274.964375)scale(0.1 -0.1)\">\r\n     <use xlink:href=\"#DejaVuSans-48\"/>\r\n    </g>\r\n   </g>\r\n   <g id=\"text_69\">\r\n    <!-- 0 -->\r\n    <g style=\"fill:#ffffff;\" transform=\"translate(196.466875 274.964375)scale(0.1 -0.1)\">\r\n     <use xlink:href=\"#DejaVuSans-48\"/>\r\n    </g>\r\n   </g>\r\n   <g id=\"text_70\">\r\n    <!-- 0 -->\r\n    <g style=\"fill:#ffffff;\" transform=\"translate(235.526875 274.964375)scale(0.1 -0.1)\">\r\n     <use xlink:href=\"#DejaVuSans-48\"/>\r\n    </g>\r\n   </g>\r\n   <g id=\"text_71\">\r\n    <!-- 82 -->\r\n    <g style=\"fill:#262626;\" transform=\"translate(271.405625 274.964375)scale(0.1 -0.1)\">\r\n     <use xlink:href=\"#DejaVuSans-56\"/>\r\n     <use x=\"63.623047\" xlink:href=\"#DejaVuSans-50\"/>\r\n    </g>\r\n   </g>\r\n   <g id=\"text_72\">\r\n    <!-- 0 -->\r\n    <g style=\"fill:#ffffff;\" transform=\"translate(313.646875 274.964375)scale(0.1 -0.1)\">\r\n     <use xlink:href=\"#DejaVuSans-48\"/>\r\n    </g>\r\n   </g>\r\n   <g id=\"text_73\">\r\n    <!-- 0 -->\r\n    <g style=\"fill:#ffffff;\" transform=\"translate(40.226875 315.734375)scale(0.1 -0.1)\">\r\n     <use xlink:href=\"#DejaVuSans-48\"/>\r\n    </g>\r\n   </g>\r\n   <g id=\"text_74\">\r\n    <!-- 0 -->\r\n    <g style=\"fill:#ffffff;\" transform=\"translate(79.286875 315.734375)scale(0.1 -0.1)\">\r\n     <use xlink:href=\"#DejaVuSans-48\"/>\r\n    </g>\r\n   </g>\r\n   <g id=\"text_75\">\r\n    <!-- 0 -->\r\n    <g style=\"fill:#ffffff;\" transform=\"translate(118.346875 315.734375)scale(0.1 -0.1)\">\r\n     <use xlink:href=\"#DejaVuSans-48\"/>\r\n    </g>\r\n   </g>\r\n   <g id=\"text_76\">\r\n    <!-- 0 -->\r\n    <g style=\"fill:#ffffff;\" transform=\"translate(157.406875 315.734375)scale(0.1 -0.1)\">\r\n     <use xlink:href=\"#DejaVuSans-48\"/>\r\n    </g>\r\n   </g>\r\n   <g id=\"text_77\">\r\n    <!-- 0 -->\r\n    <g style=\"fill:#ffffff;\" transform=\"translate(196.466875 315.734375)scale(0.1 -0.1)\">\r\n     <use xlink:href=\"#DejaVuSans-48\"/>\r\n    </g>\r\n   </g>\r\n   <g id=\"text_78\">\r\n    <!-- 0 -->\r\n    <g style=\"fill:#ffffff;\" transform=\"translate(235.526875 315.734375)scale(0.1 -0.1)\">\r\n     <use xlink:href=\"#DejaVuSans-48\"/>\r\n    </g>\r\n   </g>\r\n   <g id=\"text_79\">\r\n    <!-- 0 -->\r\n    <g style=\"fill:#ffffff;\" transform=\"translate(274.586875 315.734375)scale(0.1 -0.1)\">\r\n     <use xlink:href=\"#DejaVuSans-48\"/>\r\n    </g>\r\n   </g>\r\n   <g id=\"text_80\">\r\n    <!-- 90 -->\r\n    <g style=\"fill:#262626;\" transform=\"translate(310.465625 315.734375)scale(0.1 -0.1)\">\r\n     <use xlink:href=\"#DejaVuSans-57\"/>\r\n     <use x=\"63.623047\" xlink:href=\"#DejaVuSans-48\"/>\r\n    </g>\r\n   </g>\r\n  </g>\r\n  <g id=\"axes_2\">\r\n   <g id=\"patch_3\">\r\n    <path clip-path=\"url(#p85a965813b)\" d=\"M 355.888125 333.36 \r\nL 355.888125 332.085937 \r\nL 355.888125 8.474063 \r\nL 355.888125 7.2 \r\nL 372.196125 7.2 \r\nL 372.196125 8.474063 \r\nL 372.196125 332.085937 \r\nL 372.196125 333.36 \r\nz\r\n\" style=\"fill:#ffffff;stroke:#ffffff;stroke-linejoin:miter;stroke-width:0.01;\"/>\r\n   </g>\r\n   <image height=\"326\" id=\"image38d75350e3\" transform=\"scale(1 -1)translate(0 -326)\" width=\"16\" x=\"356\" xlink:href=\"data:image/png;base64,\r\niVBORw0KGgoAAAANSUhEUgAAABAAAAFGCAYAAABjUx8/AAABu0lEQVR4nO2a0Q3DQAhDobku0f33TId4luxD3H8s8zAkadPP9/cWOKfJ1VV1upmEQKCYwAddXYoSPvcz4CVgiJABdrAQIyDSWfB3QRAkdxsVDhiGEUEasNYXor8E/z6YsNICgmRngB1QAcVahwL3j3PCKw+Osp0BVViICogJO5GdhCdVLsDOBAb2G0vANAq6YHYQANGexIAnVXsOIlYaFEjoAjszkshOAgP0L9MUiFjA/oABBQQQaZAmMMACC1GwUNwrLYDBBimDAbOASwhIIof4MggjGNwfpMYlUAeCNg5IIu6CnQGcpoAkNnxEUUCEDAQ/iVIHAyDiKC8DzACXILg3wtuzACJ34IbIkwg9BDCYECQooPgCggpwBtRBQBKxgBkiZ1D+jeQWEEB0l4AdBAyTACL8hyMBormEU9QBLSFgGkcwwEFyf9hGHURAZCY2iVWn4J1lQpDaHiTahQCI/mkcANGeRMUrjz0HGKL9W13BMNm7EDCNkAF/X7ifgX2YsIOIlWYX2JU2Yhr9SRwA0c1gV9qMIHU/ZgcbpIwg0RwsxIRhcnchYhrNUY5Y6zuN9hz42xiQRPs4YwZ/ztQuS6ONcUwAAAAASUVORK5CYII=\" y=\"-7\"/>\r\n   <g id=\"matplotlib.axis_3\"/>\r\n   <g id=\"matplotlib.axis_4\">\r\n    <g id=\"ytick_9\">\r\n     <g id=\"line2d_17\">\r\n      <defs>\r\n       <path d=\"M 0 0 \r\nL 3.5 0 \r\n\" id=\"m908b904539\" style=\"stroke:#000000;stroke-width:0.8;\"/>\r\n      </defs>\r\n      <g>\r\n       <use style=\"stroke:#000000;stroke-width:0.8;\" x=\"372.196125\" xlink:href=\"#m908b904539\" y=\"333.36\"/>\r\n      </g>\r\n     </g>\r\n     <g id=\"text_81\">\r\n      <!-- 0 -->\r\n      <g transform=\"translate(379.196125 337.159219)scale(0.1 -0.1)\">\r\n       <use xlink:href=\"#DejaVuSans-48\"/>\r\n      </g>\r\n     </g>\r\n    </g>\r\n    <g id=\"ytick_10\">\r\n     <g id=\"line2d_18\">\r\n      <g>\r\n       <use style=\"stroke:#000000;stroke-width:0.8;\" x=\"372.196125\" xlink:href=\"#m908b904539\" y=\"270.027961\"/>\r\n      </g>\r\n     </g>\r\n     <g id=\"text_82\">\r\n      <!-- 20 -->\r\n      <g transform=\"translate(379.196125 273.82718)scale(0.1 -0.1)\">\r\n       <use xlink:href=\"#DejaVuSans-50\"/>\r\n       <use x=\"63.623047\" xlink:href=\"#DejaVuSans-48\"/>\r\n      </g>\r\n     </g>\r\n    </g>\r\n    <g id=\"ytick_11\">\r\n     <g id=\"line2d_19\">\r\n      <g>\r\n       <use style=\"stroke:#000000;stroke-width:0.8;\" x=\"372.196125\" xlink:href=\"#m908b904539\" y=\"206.695922\"/>\r\n      </g>\r\n     </g>\r\n     <g id=\"text_83\">\r\n      <!-- 40 -->\r\n      <g transform=\"translate(379.196125 210.495141)scale(0.1 -0.1)\">\r\n       <use xlink:href=\"#DejaVuSans-52\"/>\r\n       <use x=\"63.623047\" xlink:href=\"#DejaVuSans-48\"/>\r\n      </g>\r\n     </g>\r\n    </g>\r\n    <g id=\"ytick_12\">\r\n     <g id=\"line2d_20\">\r\n      <g>\r\n       <use style=\"stroke:#000000;stroke-width:0.8;\" x=\"372.196125\" xlink:href=\"#m908b904539\" y=\"143.363883\"/>\r\n      </g>\r\n     </g>\r\n     <g id=\"text_84\">\r\n      <!-- 60 -->\r\n      <g transform=\"translate(379.196125 147.163102)scale(0.1 -0.1)\">\r\n       <use xlink:href=\"#DejaVuSans-54\"/>\r\n       <use x=\"63.623047\" xlink:href=\"#DejaVuSans-48\"/>\r\n      </g>\r\n     </g>\r\n    </g>\r\n    <g id=\"ytick_13\">\r\n     <g id=\"line2d_21\">\r\n      <g>\r\n       <use style=\"stroke:#000000;stroke-width:0.8;\" x=\"372.196125\" xlink:href=\"#m908b904539\" y=\"80.031845\"/>\r\n      </g>\r\n     </g>\r\n     <g id=\"text_85\">\r\n      <!-- 80 -->\r\n      <g transform=\"translate(379.196125 83.831063)scale(0.1 -0.1)\">\r\n       <use xlink:href=\"#DejaVuSans-56\"/>\r\n       <use x=\"63.623047\" xlink:href=\"#DejaVuSans-48\"/>\r\n      </g>\r\n     </g>\r\n    </g>\r\n    <g id=\"ytick_14\">\r\n     <g id=\"line2d_22\">\r\n      <g>\r\n       <use style=\"stroke:#000000;stroke-width:0.8;\" x=\"372.196125\" xlink:href=\"#m908b904539\" y=\"16.699806\"/>\r\n      </g>\r\n     </g>\r\n     <g id=\"text_86\">\r\n      <!-- 100 -->\r\n      <g transform=\"translate(379.196125 20.499025)scale(0.1 -0.1)\">\r\n       <use xlink:href=\"#DejaVuSans-49\"/>\r\n       <use x=\"63.623047\" xlink:href=\"#DejaVuSans-48\"/>\r\n       <use x=\"127.246094\" xlink:href=\"#DejaVuSans-48\"/>\r\n      </g>\r\n     </g>\r\n    </g>\r\n   </g>\r\n   <g id=\"patch_4\">\r\n    <path d=\"M 355.888125 333.36 \r\nL 355.888125 332.085937 \r\nL 355.888125 8.474063 \r\nL 355.888125 7.2 \r\nL 372.196125 7.2 \r\nL 372.196125 8.474063 \r\nL 372.196125 332.085937 \r\nL 372.196125 333.36 \r\nz\r\n\" style=\"fill:none;\"/>\r\n   </g>\r\n  </g>\r\n </g>\r\n <defs>\r\n  <clipPath id=\"p85fbac9c6b\">\r\n   <rect height=\"326.16\" width=\"312.48\" x=\"23.878125\" y=\"7.2\"/>\r\n  </clipPath>\r\n  <clipPath id=\"p85a965813b\">\r\n   <rect height=\"326.16\" width=\"16.308\" x=\"355.888125\" y=\"7.2\"/>\r\n  </clipPath>\r\n </defs>\r\n</svg>\r\n",
      "image/png": "[encoded data removed]"
     },
     "metadata": {
      "needs_background": "light"
     }
    },
    {
     "output_type": "stream",
     "name": "stdout",
     "text": [
      "Classification Report\n"
     ]
    }
   ],
   "source": [
    "import pandas as pd\n",
    "import seaborn as sns\n",
    "import matplotlib.pyplot as plt\n",
    "from sklearn.metrics import confusion_matrix, classification_report\n",
    "\n",
    "def print_confusion_matrix(y_true, y_pred, report=True):\n",
    "    labels = sorted(list(set(y_true)))\n",
    "    cmx_data = confusion_matrix(y_true, y_pred, labels=labels)\n",
    "    \n",
    "    df_cmx = pd.DataFrame(cmx_data, index=labels, columns=labels)\n",
    " \n",
    "    fig, ax = plt.subplots(figsize=(7, 6))\n",
    "    sns.heatmap(df_cmx, annot=True, fmt='g' ,square=False)\n",
    "    ax.set_ylim(len(set(y_true)), 0)\n",
    "    plt.show()\n",
    "    \n",
    "    if report:\n",
    "        print('Classification Report')\n",
    "        # print(classification_report(Y_test, y_pred))\n",
    "\n",
    "Y_pred = model.predict([X_hand_left_test,X_hand_right_test,X_face_test])\n",
    "y_pred = np.argmax(Y_pred, axis=1)\n",
    "\n",
    "print_confusion_matrix(Y_test,y_pred)"
   ]
  },
  {
   "cell_type": "code",
   "execution_count": 45,
   "metadata": {},
   "outputs": [
    {
     "output_type": "execute_result",
     "data": {
      "text/plain": [
       "array([[6.8374127e-03, 8.9797607e-07, 1.5057989e-04, 3.5754722e-04,\n",
       "        2.7092455e-02, 7.4781979e-05, 1.6236292e-01, 8.0312341e-01]],\n",
       "      dtype=float32)"
      ]
     },
     "metadata": {},
     "execution_count": 45
    }
   ],
   "source": [
    "print X_hand_left_test[0]"
   ]
  },
  {
   "cell_type": "code",
   "execution_count": 20,
   "metadata": {},
   "outputs": [],
   "source": [
    "# class_num"
   ]
  }
 ]
}